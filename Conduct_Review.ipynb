{
 "cells": [
  {
   "cell_type": "markdown",
   "id": "0a8263ca-4d6b-4993-88f3-f61feee1b92f",
   "metadata": {},
   "source": [
    "# Treatment of Covid-19 with Remdesivir - Systematic Review and Meta-Analysis"
   ]
  },
  {
   "cell_type": "code",
   "execution_count": 1,
   "id": "f1be7e91-42f3-4bd2-8e4b-0110ca83c7e6",
   "metadata": {},
   "outputs": [],
   "source": [
    "from bs4 import BeautifulSoup\n",
    "import numpy as np\n",
    "import pandas as pd\n",
    "import re\n",
    "from urllib.request import Request, urlopen\n",
    "from urllib.error import HTTPError"
   ]
  },
  {
   "cell_type": "markdown",
   "id": "41671833-f400-4d95-9e2a-e584978361d7",
   "metadata": {},
   "source": [
    "## Search pubmed for appropriate studies\n",
    "1. Click on this [link](https://pubmed.ncbi.nlm.nih.gov/)\n",
    "2. Type \"(((((((covid[Title/Abstract]) OR (corona[Title/Abstract])) OR (sars-cov-2[Title/Abstract])) OR (sars cov 2[Title/Abstract])) AND (remdesivir[Title])) NOT (Meta Analysis[Title])) NOT (Meta-Analysis[Title])) NOT (Review[Title])\" into search box\n",
    "3. On the left hand side check \"Free Full Text\"\n",
    "4. Click on save and select all results in selection and format Pubmed\n",
    "5. Click on create file and save it under the name search_results.txt"
   ]
  },
  {
   "cell_type": "markdown",
   "id": "1e68da3e-dc64-4830-9a16-f26ce0624846",
   "metadata": {},
   "source": [
    "## Automated Filtering\n",
    "### Filter for Randomized Control Trials\n",
    "We only want to include randomized control trials in our meta-analysis. We are using a machine learning tool called robotsearch to filter out only the studies from the pubmed search which used a ranodmized control trial design.\n",
    "1. Move the file search_results.txt into the robotsearch directory\n",
    "2. Open Anaconda\n",
    "3. `cd` your way into the robotsearch directory within the overall covid_systematic_review directory you downloaded from github\n",
    "4. If the environment is not activated type `conda activate covid_review`.\n",
    "5. Run `python setup.py install`.\n",
    "6. Run `robotsearch search_results.txt -p` Don't forget the -p-flag, or the results will contain too many false positive you will have to manually check later.\n",
    "\n",
    "The results are saved in the file search_reults_robotviewer_RCTs.txt. Let's look at the result"
   ]
  },
  {
   "cell_type": "code",
   "execution_count": 2,
   "id": "2a42acd7-d93b-4148-958e-4554b38c0262",
   "metadata": {},
   "outputs": [
    {
     "name": "stdout",
     "output_type": "stream",
     "text": [
      "other non numbered\n",
      "other non numbered\n",
      "The inital search result has 671 articles\n",
      "25 articles were classified as rcts\n"
     ]
    }
   ],
   "source": [
    "from robotsearch.parsers import ris\n",
    "file_input = \"robotsearch/search_results.txt\"\n",
    "file_result = \"robotsearch/search_results_robotreviewer_RCTs.txt\"\n",
    "with open(file_input, 'r', encoding=\"utf8\") as f:\n",
    "    inp = ris.load(f)\n",
    "with open(file_result, 'r', encoding=\"utf8\") as f:\n",
    "    result = ris.load(f)\n",
    "print(\"The inital search result has {} articles\".format(len(inp)))\n",
    "print(\"{} articles were classified as rcts\".format(len(result)))"
   ]
  },
  {
   "cell_type": "code",
   "execution_count": 3,
   "id": "935693c4-651d-4439-ad09-c53df1e36a59",
   "metadata": {},
   "outputs": [
    {
     "name": "stdout",
     "output_type": "stream",
     "text": [
      "25 studies have a pmc-identifier and can be accessed through pubmed open-access\n"
     ]
    }
   ],
   "source": [
    "#extract PMC - they are found in the 'PMC' key.\n",
    "pmcs = []\n",
    "for i in range(len(result)):\n",
    "    if \"PMC\" in result[i].keys():\n",
    "        id_raw = result[i]['PMC'][0]\n",
    "        pmc = id_raw.strip()\n",
    "        pmcs.append(pmc)\n",
    "\n",
    "print(\"{} studies have a pmc-identifier and can be accessed through pubmed open-access\".format(len(pmcs)))"
   ]
  },
  {
   "cell_type": "markdown",
   "id": "0542c5ed-4bc7-4017-ad82-b9118b9af1da",
   "metadata": {},
   "source": [
    "### Filter for Outcome\n",
    "Let's reduce the number even further by checking if the article contains necessary information. Here we only want articles that use time to clinical improvement. The article has to include the meassure hazard-ratio or rate-ratio!"
   ]
  },
  {
   "cell_type": "code",
   "execution_count": 62,
   "id": "bf24c3a2-98be-4aac-89d7-6db89d6e544b",
   "metadata": {},
   "outputs": [
    {
     "name": "stdout",
     "output_type": "stream",
     "text": [
      "0\n",
      "True\n",
      "1\n",
      "True\n",
      "2\n",
      "True\n",
      "3\n",
      "True\n",
      "4\n",
      "True\n",
      "5\n",
      "True\n",
      "6\n",
      "True\n",
      "7\n",
      "8\n",
      "9\n",
      "10\n",
      "True\n",
      "11\n",
      "12\n",
      "True\n",
      "13\n",
      "14\n",
      "15\n",
      "16\n",
      "True\n",
      "17\n",
      "True\n",
      "18\n",
      "True\n",
      "19\n",
      "20\n",
      "21\n",
      "True\n",
      "22\n",
      "23\n",
      "24\n",
      "True\n"
     ]
    }
   ],
   "source": [
    "site= \"https://www.ncbi.nlm.nih.gov/pmc/articles/{}/\"\n",
    "hdr = {'User-Agent': 'Mozilla/5.0'}\n",
    "regex_mortality = r\"method.+(?:(?:mortality|death)|(?:time to(?:clinical improvement|recovery)))\" # the outcome meassure must come after the word method, so it is likey mentioned in the methods or results section\n",
    "regex_hr = r\"method.+(?:hazard|rate)[\\s-]ratio\"\n",
    "pmcs_outcome = []\n",
    "for i in range(len(pmcs)):\n",
    "    print(i)\n",
    "    url = site.format(pmcs[i])\n",
    "    req = Request(url,headers=hdr)\n",
    "    try:\n",
    "        page = urlopen(req)\n",
    "        soup = BeautifulSoup(page)\n",
    "        if re.search(regex_mortality, soup.prettify(), re.DOTALL|re.IGNORECASE) and re.search(regex_hr, soup.prettify(), re.DOTALL|re.IGNORECASE):\n",
    "            print(True)\n",
    "            pmcs_outcome.append(pmcs[i])\n",
    "    except HTTPError:\n",
    "        print(\"httperror\")"
   ]
  },
  {
   "cell_type": "code",
   "execution_count": 63,
   "id": "0f4dced2-a010-4c46-841f-db673eac59f8",
   "metadata": {},
   "outputs": [
    {
     "name": "stdout",
     "output_type": "stream",
     "text": [
      "14 articles contain mortality/death or time to clinical improvement or recovery and propper outcome meassure\n"
     ]
    }
   ],
   "source": [
    "print(\"{} articles contain mortality/death or time to clinical improvement or recovery and propper outcome meassure\".format(len(pmcs_outcome)))\n",
    "with open(\"papers_html.txt\", \"w\") as f:\n",
    "    for pmc in pmcs_outcome:\n",
    "        f.write(\"%s\\n\" % \"https://www.ncbi.nlm.nih.gov/pmc/articles/{}/\".format(pmc))"
   ]
  },
  {
   "cell_type": "code",
   "execution_count": 12,
   "id": "af3d4702-022a-4615-af31-6e07c03af8e1",
   "metadata": {},
   "outputs": [
    {
     "name": "stdout",
     "output_type": "stream",
     "text": [
      "https://www.ncbi.nlm.nih.gov/pmc/articles/PMC7262788/\n",
      "https://www.ncbi.nlm.nih.gov/pmc/articles/PMC7745180/\n",
      "https://www.ncbi.nlm.nih.gov/pmc/articles/PMC8757570/\n",
      "https://www.ncbi.nlm.nih.gov/pmc/articles/PMC7377062/\n",
      "https://www.ncbi.nlm.nih.gov/pmc/articles/PMC8863204/\n",
      "https://www.ncbi.nlm.nih.gov/pmc/articles/PMC8490137/\n",
      "https://www.ncbi.nlm.nih.gov/pmc/articles/PMC8279143/\n",
      "https://www.ncbi.nlm.nih.gov/pmc/articles/PMC8523116/\n",
      "https://www.ncbi.nlm.nih.gov/pmc/articles/PMC7538864/\n",
      "https://www.ncbi.nlm.nih.gov/pmc/articles/PMC7190303/\n",
      "https://www.ncbi.nlm.nih.gov/pmc/articles/PMC9017992/\n",
      "https://www.ncbi.nlm.nih.gov/pmc/articles/PMC7442954/\n",
      "https://www.ncbi.nlm.nih.gov/pmc/articles/PMC8439621/\n",
      "https://www.ncbi.nlm.nih.gov/pmc/articles/PMC9278225/\n"
     ]
    }
   ],
   "source": [
    "screening_results = pd.DataFrame(columns = ['pmc', 'non_retracted', 'randomized_controlled', 'adults', 'infected', 'remdesivir_only', 'propper_outcome'])\n",
    "screening_results['pmc'] = np.array(pmcs_outcome)\n",
    "screening_results.to_csv(\"screening_results.csv\", index = False, sep = \";\")\n",
    "for i in range(len(pmcs_outcome)):\n",
    "    print(\"https://www.ncbi.nlm.nih.gov/pmc/articles/{}/\".format(pmcs_outcome[i]))"
   ]
  },
  {
   "cell_type": "markdown",
   "id": "75ee4733-2fed-4b46-ab89-17215e222781",
   "metadata": {},
   "source": [
    "## Manual Screening of Articles\n",
    "Now that we filtered out the promising studies, we must manually check for their eligibility. Even though we automated the classification as randomized controll trial, we must check for errors. We follow the following protocol. Open each of the htmls above by clicking on the link or open the file papers_html.txt. Apply the protocol below to each study individually. Open the file screening_results.csv in a csv-editor of your choice to record your results. Note that the separator is semicolon. Type 1 into the cell if criterion is met and 0 if it is not met. Stop checking the other criteria once you coded one criterion as 0 and continue to the next. Note that initially when this protocol was created, studies had to include a placebo-group. This turned out to too strict a criterion, because only few studies fulfilled all criteria. Therefore we decided to include open-label studies.\n",
    "### Not retracted\n",
    "If the article has been retracted, it shows in a red box on top of the webpage. It's impossible to miss.\n",
    "### Randomized Controlled Trial\n",
    "Randomized Clinical Trials are those in which patients are assigned randomly to a group receiving treatment with Remdesivir and a placebo-group. Check the abstract and methods secion to check if the papers are randomized control trials. Don't include studies, in which both experimental and control group involves Remdesivir but different dossage. Keywords indicating that a study is not an RCT are: \"retrospective\" study or analysis or observational cohort study. Note that randomizatin between remdesivir and control must take place. There are studies, in which participants are randomized between two different dosages of remdesivir.\n",
    "### Majority Aduls. \n",
    "Check if proportion of age above 18 is >95%\n",
    "### Participants infected \n",
    "Participants must be infected with Covid-19. No studies analysing Remdesivir as a prevention treatment should be included.\n",
    "### Remdesivir only \n",
    "The only difference between treatment- and control-group should be whether patients received remdesivir or not. Control groups can be placebo or standard-care. If multiple treatments are tested, the study must include a comparison of remdesivir with a placebo or standard care group. If both groups receive remdesivir, but in different dosages you should exclude the study. If there are multiple treatments tested in the same study, there must be a propper comparison of remdesivir and a control-group.\n",
    "### Propper outcome\n",
    "To assess the effectiveness of treatment with Remdesivir compared to the placebo or standard-care, there must be a propper effect-meassure reported. \n",
    "Check if at least one of the outcomes \"time to recovery\" or \"time to clinical improvement\" or equivalent meassures has one of these meassures associated with it: odds-ratio, hazard-ratio, rate-ratio. Keep in mind that what the authors declare as primary outcome might not be the primary outcome for this study. You might even have to look into the appendices to retrieve it.\n",
    "### Propper outcome\n",
    "To assess the effectiveness of treatment with Remdesivir compared to the placebo or standard-care, there must be a propper effect-meassure reported. Check if there is a ratio (hazard-, rate-, or odds-ratio) comparing mortality in the remdisivir group to mortality in the control group and/or a ratio comparing time-to recovery or clinical improvement.\n",
    "\n",
    "## Extract eligable studies\n",
    "We are going to use the studies that fulfill the above criteria. Execute the cell below to get the studies to be included in the final analysis, after you have comleted and saved the screening of articles."
   ]
  },
  {
   "cell_type": "code",
   "execution_count": 66,
   "id": "adf40bd0-9395-43cb-8fd8-6f2724207710",
   "metadata": {},
   "outputs": [
    {
     "name": "stdout",
     "output_type": "stream",
     "text": [
      "7 studies were found to be eligable\n",
      "https://www.ncbi.nlm.nih.gov/pmc/articles/PMC7262788/\n",
      "https://www.ncbi.nlm.nih.gov/pmc/articles/PMC8757570/\n",
      "https://www.ncbi.nlm.nih.gov/pmc/articles/PMC8863204/\n",
      "https://www.ncbi.nlm.nih.gov/pmc/articles/PMC8279143/\n",
      "https://www.ncbi.nlm.nih.gov/pmc/articles/PMC7190303/\n",
      "https://www.ncbi.nlm.nih.gov/pmc/articles/PMC7442954/\n",
      "https://www.ncbi.nlm.nih.gov/pmc/articles/PMC8439621/\n"
     ]
    }
   ],
   "source": [
    "# Please make sure to save your screening_results.csv properly. In Germany the default seperator is semicolon.\n",
    "df_screening = pd.read_csv(\"screening_results.csv\",sep=\";\")\n",
    "df_screening = df_screening.fillna(0)\n",
    "df_screening[\"eligable\"] = (df_screening.iloc[:,1:].sum(axis = 1)/6).astype(int).astype(bool)\n",
    "eligable_studies = list(df_screening.loc[df_screening.eligable == True,\"pmc\"])\n",
    "result_table = pd.DataFrame(columns = ['pmc', 'ratio_mortality', 'lower_confidence_bound_mortality', 'upper_confidence_bound_mortality', 'p_value_mortality', 'ratio_value_recovery', 'lower_confidence_bound_recovery', 'upper_confidence_bound_recovery', 'p_value_recovery','sample_size_remdesivir', 'sample_size_control', 'placebo_controlled'])\n",
    "result_table['pmc'] = np.array(eligable_studies)\n",
    "result_table.to_csv(\"result_table.csv\", index = False, sep = \";\")\n",
    "print(\"{} studies were found to be eligable\".format(len(eligable_studies)))\n",
    "for i in range(len(eligable_studies)):\n",
    "    print(\"https://www.ncbi.nlm.nih.gov/pmc/articles/{}/\".format(eligable_studies[i]))"
   ]
  },
  {
   "cell_type": "markdown",
   "id": "68dde371-c451-4592-9a46-cb7fb6e9e676",
   "metadata": {
    "tags": []
   },
   "source": [
    "## Extract Relevant Data\n",
    "Open the file result-table.csv. The separator is semicolon. Open the studies one-by-on by clicking on the corresponding url in the output of the cell above. Please follow the protocol below when you record your findings. If a meassure is missing, leave the cell blank.\n",
    "### Ratio Mortality\n",
    "Type the value of the hazard- or rate-ratio for mortality. You might have to look into an appendix mentioned in the paper. If mortality-ratios are reported for different time periods, choose the latest. If a study includes hospitalization or death don't include this study, because death itself is the outcome meassure.\n",
    "### lower confidence bound mortality\n",
    "The confidence-intervall is usually reported after the ratio. E.g. [95% CI 0·81–1·61] - the example is from an actual paper. You can see that the decimal point is missing. Please type the lower confidence bound (the left one) into the result_table. In the example it would be 0.81.\n",
    "### upper confidence bound mortality\n",
    "Equivalently type the upper confidence bound (the right one) into the table. In the example it would be 1.61.\n",
    "### p-value mortality\n",
    "Type the p-value into the result-table. It is usually documented right next to the confidence interval. If it isn't you have to look a bit in the results section. If there is only a confidence interval reported, leave the column p-value empty.\n",
    "### Ratio Recovery\n",
    "Different studies use different recovery-meassures. You should only report one. If a ratio is reported for time to recovery use that one, if not, look if there is time to improvement or aleviation of symptoms or an equivalent meassure.\n",
    "Type the value of the hazard- or rate-ratio or odds-ratio. You might have to look into an appendix mentioned in the paper. If mortality-ratios are reported for different time periods, choose the latest.\n",
    "### lower confidence bound Recovery\n",
    "The confidence-intervall is usually reported after the ratio. E.g. [95% CI 0·81–1·61] - the example is from an actual paper. You can see that the decimal point is missing. Please type the lower confidence bound (the left one) into the result_table. In the example it would be 0.81.\n",
    "### upper confidence bound Recovery\n",
    "Equivalently type the upper confidence bound (the right one) into the table. In the example it would be 1.61.\n",
    "### p-value Recovery\n",
    "Type the p-value into the result-table. It is usually documented right next to the confidence interval. If it isn't you have to look a bit in the results section. If there is only a confidence interval reported, leave the column p-value empty.\n",
    "### sample-sizes\n",
    "Type the sample-sizes for the remdesivir group and the control-group seperately.\n",
    "### placebo\n",
    "check if the control group recevided a placebo or not. If the control-group received a placebo type 1 into the column and else type 0.\n",
    "### save the file.\n"
   ]
  },
  {
   "cell_type": "code",
   "execution_count": null,
   "id": "b177b871-2647-47c4-afb5-9cba964f5530",
   "metadata": {},
   "outputs": [],
   "source": []
  }
 ],
 "metadata": {
  "kernelspec": {
   "display_name": "covid_review",
   "language": "python",
   "name": "covid_review"
  },
  "language_info": {
   "codemirror_mode": {
    "name": "ipython",
    "version": 3
   },
   "file_extension": ".py",
   "mimetype": "text/x-python",
   "name": "python",
   "nbconvert_exporter": "python",
   "pygments_lexer": "ipython3",
   "version": "3.6.13"
  }
 },
 "nbformat": 4,
 "nbformat_minor": 5
}
