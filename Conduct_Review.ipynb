{
 "cells": [
  {
   "cell_type": "markdown",
   "id": "0a8263ca-4d6b-4993-88f3-f61feee1b92f",
   "metadata": {},
   "source": [
    "# Treatment of Covid-19 with Remdesivir - Systematic Review and Meta-Analysis\n",
    "In this notebook you will be guided through all the steps necessary to conduct this systematic review. We have automated as many steps as possible, but there are still a few steps you need to perform manually. If you are unfamiliar with jupyter notebooks, the way to run code within a cell is by clicking on the cell and clicking on the play button or pressing shift+enter. Please be careful to precisely do each step as is explained here, or your results might not work properly.\n",
    "<br>first let's import all necessary python packages."
   ]
  },
  {
   "cell_type": "code",
   "execution_count": 1,
   "id": "f1be7e91-42f3-4bd2-8e4b-0110ca83c7e6",
   "metadata": {},
   "outputs": [],
   "source": [
    "from bs4 import BeautifulSoup\n",
    "import copy\n",
    "import forestplot as fp\n",
    "import numpy as np\n",
    "import pandas as pd\n",
    "import matplotlib.pyplot as plt\n",
    "from matplotlib.lines import Line2D\n",
    "import re\n",
    "from urllib.request import Request, urlopen\n",
    "from urllib.error import HTTPError"
   ]
  },
  {
   "cell_type": "markdown",
   "id": "41671833-f400-4d95-9e2a-e584978361d7",
   "metadata": {},
   "source": [
    "## Search PubMed for appropriate studies\n",
    "PubMed is a database which hosts over 35 million scientific publications in the biomedical literature. Most studies on covid are also available free of charge on their website. The first step is to search for relevant publications. We are interested in studies about covid-19 and remdesivir. More specifically Remdesivir must be mentioned in the title of the publication and either covid, corona, or sars-cov-2 must be mentioned in the title or abstract. We are only looking for original studies and not for other meta-analyses on the subject, so we exclude publications which have the term meta-analysis in the title. Please follow the instructions carefully.\n",
    "1. Click on this [link](https://pubmed.ncbi.nlm.nih.gov/) to visit PubMed.\n",
    "2. Copy this prompt `(((((((covid[Title/Abstract]) OR (corona[Title/Abstract])) OR (sars-cov-2[Title/Abstract])) OR (sars cov 2[Title/Abstract])) AND (remdesivir[Title])) NOT (Meta Analysis[Title])) NOT (Meta-Analysis[Title])) NOT (Review[Title])` into the search box.\n",
    "3. Click on save and select <b>all results</b> (not all resutls on page) in selection and <b>PubMed</b> in format\n",
    "4. Click on create file and save it under the name <b>search_results.txt</b>"
   ]
  },
  {
   "cell_type": "markdown",
   "id": "1e68da3e-dc64-4830-9a16-f26ce0624846",
   "metadata": {},
   "source": [
    "## Automated Filtering\n",
    "### Filter for Randomized Controlled Trials\n",
    "We only want to include randomized control trials in our meta-analysis. We are using a machine-learning tool called robotsearch to filter out only the studies from the PubMed search which used a randomized control trial design. If you followed the README.md precisely, you already installed the tool. Please follow the instructions carefully.\n",
    "1. Move the file search_results.txt that you just downloaded into the robotsearch directory, which is found within the overall project-directory.\n",
    "2. Open a **new anaconda terminal**. Don't close the one running!\n",
    "3. `cd` your way into the robotsearch directory within the overall covid_systematic_review directory you downloaded from GitHub. To learn about how to change directories in a terminal [visit here](https://www.lifewire.com/change-directories-in-command-prompt-5185508)\n",
    "4. If the environment is not activated type `conda activate covid_review`. You will know if your environment is activated by the first phrase in the parentheses. It should say (covid_review).\n",
    "5. Conda should now be displaing (covid_review) ...\\robotsearch>. Run `robotsearch search_results.txt -p` Don't forget the -p-flag, or the results will contain too many false positives you will have to manually check later.\n",
    "\n",
    "The results are saved in the file search_reults_robotviewer_RCTs.txt. Let's look at the result, by simply running the cell below."
   ]
  },
  {
   "cell_type": "code",
   "execution_count": 2,
   "id": "2a42acd7-d93b-4148-958e-4554b38c0262",
   "metadata": {},
   "outputs": [
    {
     "name": "stdout",
     "output_type": "stream",
     "text": [
      "other non numbered\n",
      "other non numbered\n",
      "The inital search result has 821 articles\n",
      "30 articles were classified as rcts\n"
     ]
    }
   ],
   "source": [
    "from robotsearch.parsers import ris\n",
    "file_input = \"robotsearch/search_results.txt\"\n",
    "file_result = \"robotsearch/search_results_robotreviewer_RCTs.txt\"\n",
    "with open(file_input, 'r', encoding=\"utf8\") as f:\n",
    "    inp = ris.load(f)\n",
    "with open(file_result, 'r', encoding=\"utf8\") as f:\n",
    "    result = ris.load(f)\n",
    "print(\"The inital search result has {} articles\".format(len(inp)))\n",
    "print(\"{} articles were classified as rcts\".format(len(result)))"
   ]
  },
  {
   "cell_type": "markdown",
   "id": "79de4ece-2536-47e2-9cbd-37c98669ef0b",
   "metadata": {},
   "source": [
    "Now we know how many articles were classified as randomized-controlled-trials. We are only going to use the ones that have an open-access. Those that do, have a pmc- identifier associated with the publication. Please execute the cell below to filter out the pmcs."
   ]
  },
  {
   "cell_type": "code",
   "execution_count": 3,
   "id": "935693c4-651d-4439-ad09-c53df1e36a59",
   "metadata": {},
   "outputs": [
    {
     "name": "stdout",
     "output_type": "stream",
     "text": [
      "26 studies have a pmc-identifier and can be accessed through pubmed open-access\n"
     ]
    }
   ],
   "source": [
    "#extract PMC - they are found in the 'PMC' key.\n",
    "pmcs = []\n",
    "for i in range(len(result)):\n",
    "    if \"PMC\" in result[i].keys():\n",
    "        id_raw = result[i]['PMC'][0]\n",
    "        pmc = id_raw.strip()\n",
    "        pmcs.append(pmc)\n",
    "\n",
    "print(\"{} studies have a pmc-identifier and can be accessed through pubmed open-access\".format(len(pmcs)))"
   ]
  },
  {
   "cell_type": "markdown",
   "id": "0542c5ed-4bc7-4017-ad82-b9118b9af1da",
   "metadata": {},
   "source": [
    "### Filter for response-measure of interest\n",
    "Let's reduce the number of publications even further by checking if the articles contain appropriate response-measures. The response-measures we are interested in are indicators for mortality or clinical recovery or improvement. The statistical measures of interest are hazard-ratio or rate-ratio. Every study reports those in the methods section or later in the article. The following cell scans the open-access texts on PubMed and checks if either the terms \"mortality\" or death or the terms \"time to clinical improvement/recovery\" are mentioned after the key-word \"method\". And the check if at the same time the keywords \"hazard/rate-ratio\" are mentioned after the \"method\" keyword. Please execute the cell below. It will take a few minutes to run. If you run into errors, try installing Mozilla Firefox if you don't have it on your system."
   ]
  },
  {
   "cell_type": "code",
   "execution_count": null,
   "id": "bf24c3a2-98be-4aac-89d7-6db89d6e544b",
   "metadata": {},
   "outputs": [],
   "source": [
    "site= \"https://www.ncbi.nlm.nih.gov/pmc/articles/{}/\"\n",
    "hdr = {'User-Agent': 'Mozilla/5.0'}\n",
    "regex_mortality = r\"method.+(?:(?:mortality|death)|(?:time to(?:clinical improvement|recovery)))\" # the outcome meassure must come after the word method, so it is likey mentioned in the methods or results section\n",
    "regex_hr = r\"method.+(?:hazard|rate)[\\s-]ratio\"\n",
    "pmcs_outcome = []\n",
    "for i in range(len(pmcs)):\n",
    "    print(i)\n",
    "    url = site.format(pmcs[i])\n",
    "    req = Request(url,headers=hdr)\n",
    "    try:\n",
    "        page = urlopen(req)\n",
    "        soup = BeautifulSoup(page)\n",
    "        if re.search(regex_mortality, soup.prettify(), re.DOTALL|re.IGNORECASE) and re.search(regex_hr, soup.prettify(), re.DOTALL|re.IGNORECASE):\n",
    "            print(pmcs[i], \"has a propper response-measure\")\n",
    "            pmcs_outcome.append(pmcs[i])\n",
    "    except HTTPError:\n",
    "        print(\"httperror\")\n",
    "print(\"{} articles contain mortality/death or time to clinical improvement or recovery and propper outcome meassure\".format(len(pmcs_outcome)))\n",
    "with open(\"papers.txt\", \"w\") as f:\n",
    "    for pmc in pmcs_outcome:\n",
    "        f.write(\"%s\\n\" % \"https://www.ncbi.nlm.nih.gov/pmc/articles/{}/\".format(pmc))"
   ]
  },
  {
   "cell_type": "markdown",
   "id": "02b2b54c-7b6a-42fd-bf68-9f4fdd771b39",
   "metadata": {},
   "source": [
    "### Create a spreadsheet to record screening results.\n",
    "Now that we reduced the number of eligible studies by a very significant amount, we will inspect the remaining studies manually. Run the cell below to create a spreadsheet in which you will document the results of your inspection. You will also get a list of links where you will find the studies."
   ]
  },
  {
   "cell_type": "code",
   "execution_count": null,
   "id": "af3d4702-022a-4615-af31-6e07c03af8e1",
   "metadata": {},
   "outputs": [],
   "source": [
    "screening_results = pd.DataFrame(columns = ['pmc', 'non_retracted', 'randomized_controlled', 'adults', 'infected', 'remdesivir_vs_control', 'propper_outcome'])\n",
    "screening_results['pmc'] = np.array(pmcs_outcome)\n",
    "screening_results.to_csv(\"screening_results.csv\", index = False, sep = \";\")\n",
    "for i in range(len(pmcs_outcome)):\n",
    "    print(\"https://www.ncbi.nlm.nih.gov/pmc/articles/{}/\".format(pmcs_outcome[i]))"
   ]
  },
  {
   "cell_type": "markdown",
   "id": "75ee4733-2fed-4b46-ab89-17215e222781",
   "metadata": {},
   "source": [
    "## Manual Screening of Articles\n",
    "Now that we filtered out the promising studies, we must manually check for their eligibility. Even though we automated the classification as randomized control trial, we must check for errors. We follow the following protocol. There are certain criteria a publication has to meet in order to be eligible for our final analysis. Open each of the HTMLs above by clicking on the link or open the file papers.txt. Apply the protocol below very carefully to each study individually. Open the file **screening_results.csv** in a csv-editor of your choice. You will find the file in the main project directory. Note that the separator is a semicolon. <br>\n",
    "For each criterion listed below, the spreadsheet has a column in which to document, if the study meets the criterion. Type **1** into the cell if the **criterion is met** and **0** if it is **not met**. You can stop checking the remaining criteria for that particular paper, once you coded one criterion as 0 and continue to the next paper, by clicking on the next link in the list above.\n",
    "### Not retracted\n",
    "Rarely it happens, that already published articles are retracted for various reasons. This probably won't be the case for the studies here, but we still must check. If the article has been retracted, it shows in a red box on top of the webpage. It's impossible to miss. Code **1** if the article has **not been retracted**.\n",
    "### Randomized Controlled Trial\n",
    "Randomized Clinical Trials are those in which patients are assigned randomly to either a group receiving treatment with Remdesivir or a control group, which may be a placebo-group or a standard-treatment. Check the abstract and/or methods section to check if the studies are randomized control trials. Don't worry about missing this information, the authors will make it very clear if their study is a RCT. Keywords indicating that a study is not an RCT are: \"retrospective\" study or analysis or \"observational cohort\" study.\n",
    "### Majority Adults. \n",
    "Check if proportion of age above 18 is >95%.\n",
    "### Participants infected \n",
    "Participants must be infected with Covid-19. **No** studies analyzing remdesivir as a **prevention** treatment should be included.\n",
    "### Remdesivir vs Control \n",
    "The only difference between treatment- and control-group should be whether patients received remdesivir or not. Some studies investigate the effect of combination treatments of remdesivir with other medications - don't include those studies. Control groups can be placebo or standard-care. If multiple treatments are tested, the study must include a comparison of remdesivir with a placebo or standard care group. **Don't include studies**, in which **both** experimental and control group receive remdesivir but only different dosages.\n",
    "### Propper outcome\n",
    "To assess the effectiveness of treatment with remdesivir compared to the placebo or standard-care, there must be a proper effect-measure reported. \n",
    "Check if **at least one** of the outcomes **mortality, time to recovery or time to clinical improvement or equivalent** measures has one of these measures associated with it: **hazard-ratio or rate-ratio**. Keep in mind that what the authors declare as primary outcome might not be the primary outcome for this study. You might even have to look into the appendices to retrieve the outcome measure.\n",
    "\n",
    "## Extract eligible studies\n",
    "Make sure to **save the file**. We are going to use the studies that fulfill the above criteria. Execute the cell below to get the studies to be included in the final analysis.\n"
   ]
  },
  {
   "cell_type": "code",
   "execution_count": null,
   "id": "adf40bd0-9395-43cb-8fd8-6f2724207710",
   "metadata": {},
   "outputs": [],
   "source": [
    "# Please make sure to save your screening_results.csv properly. In Germany the default seperator is semicolon.\n",
    "df_screening = pd.read_csv(\"screening_results.csv\",sep=\";\")\n",
    "df_screening = df_screening.fillna(0)\n",
    "df_screening[\"eligable\"] = (df_screening.iloc[:,1:].sum(axis = 1)/6).astype(int).astype(bool)\n",
    "eligable_studies = list(df_screening.loc[df_screening.eligable == True,\"pmc\"])\n",
    "result_table = pd.DataFrame(columns = ['pmc', 'ratio_mortality', 'lower_confidence_bound_mortality', 'upper_confidence_bound_mortality', 'p_value_mortality', 'sample_size_remdesivir_mortality', 'sample_size_control_mortality', 'ratio_recovery', 'lower_confidence_bound_recovery', 'upper_confidence_bound_recovery', 'p_value_recovery','sample_size_remdesivir_recovery', 'sample_size_control_recovery', 'placebo_controlled'])\n",
    "result_table['pmc'] = np.array(eligable_studies)\n",
    "result_table.to_csv(\"result_table.csv\", index = False, sep = \";\")\n",
    "print(\"{} studies were found to be eligable\".format(len(eligable_studies)))\n",
    "for i in range(len(eligable_studies)):\n",
    "    print(\"https://www.ncbi.nlm.nih.gov/pmc/articles/{}/\".format(eligable_studies[i]))"
   ]
  },
  {
   "cell_type": "markdown",
   "id": "68dde371-c451-4592-9a46-cb7fb6e9e676",
   "metadata": {
    "tags": []
   },
   "source": [
    "## Extract Relevant Data\n",
    "Good job thus far. We have found all the studies which will be included in the final analysis. If you discover that a criterion hasn't been met after all, simply change the sceening_results.csv file accordingly, save it, and and rerun the cell above. <br>\n",
    "Open the file result-table.csv. If you use Microsoft Excel, some fields might be automatically transformed into Dates ,while entering your results, so pay attention. Even if you live in Germany and your spreadsheet programm expects comma as decimal-separator, always use the \".\" as decimal-point. The csv-separator is semicolon. Open the studies one-by-on by clicking on the corresponding URL in the output of the cell above. Please follow the protocol below when you record your findings. If a measure is missing, leave the cell blank.\n",
    "### ratio_mortality\n",
    "Type the value of the hazard- or rate-ratio for mortality. You might have to look into an appendix mentioned in the paper. If mortality-ratios are reported for different time periods, choose the latest. If a study includes hospitalization or death don't include this study for the mortality-measure, because death itself is the outcome measure. If there are ratios reported for different subgroups, use the main ratio, comparing the entire remdesivir-group to the entire controll-group.\n",
    "### lower_confidence_bound_mortality\n",
    "The confidence-interval is usually reported after the ratio. E.g. [95% CI 0·81–1·61] - the example is from an actual paper. You can see that the decimal point is missing. Please type the lower confidence bound (the left one) into the result_table. In the example it would be 0.81.\n",
    "### upper_confidence bound mortality\n",
    "Equivalently type the upper confidence bound (the right one) into the table. In the example it would be 1.61.\n",
    "### p_value_mortality\n",
    "Type the p-value into the result-table. It is usually documented right next to the confidence interval. If it isn't you have to look a bit in the results section. If there is only a confidence interval reported, leave the column p-value empty.\n",
    "## sample-sizes\n",
    "Type the sample-sizes for the remdesivir group and the control-group separately. Make sure to check for the correct sample sizes for the mortality-ratio. Sometimes sample-sizes for different measures differ, because measures are not recorded for all patients.\n",
    "### ratio_recovery\n",
    "Different studies use different recovery-measures. You should only report one. If a ratio is reported for time to recovery use that one, if not, look if there is time to improvement or alleviation of symptoms or an equivalent measure. The indicator for aleviation of symptoms might require a symptom-check-questionnaire to compare the treatment effect to. Only report this meassure, if the questionnaire was filled out prior to beginning of treatment.\n",
    "Type the value of the hazard- or rate-ratio into the cell. You might have to look into an appendix mentioned in the paper.\n",
    "### lower_confidence_bound_recovery\n",
    "The confidence-interval is usually reported after the ratio. E.g. [95% CI 0·81–1·61] - the example is from an actual paper. You can see that the decimal point is missing. Please type the lower confidence bound (the left one) into the result_table. In the example it would be 0.81.\n",
    "### upper_confidence_bound_recovery\n",
    "Equivalently type the upper confidence bound (the right one) into the table. In the example it would be 1.61.\n",
    "### p_value_recovery\n",
    "Type the p-value into the result-table. It is usually documented right next to the confidence interval. If it isn't you have to look a bit in the results section. If there is only a confidence interval reported, leave the column p-value empty.\n",
    "### sample-sizes\n",
    "Type the sample-sizes for the remdesivir group and the control-group separately. Make sure to check for the correct sample sizes for the recovery-ratio. Sometimes sample-sizes for different measures differ, because measures are not recorded for all patients.\n",
    "### placebo\n",
    "check if the control group received a placebo or not. If the control-group received a placebo type 1 into the column and else type 0.\n",
    "### save the file.\n"
   ]
  },
  {
   "cell_type": "markdown",
   "id": "24661074-191b-4385-a999-c78a893c0614",
   "metadata": {},
   "source": [
    "## Data Analysis\n",
    "The analysis is almost done. The manual work is over. It's time to look at our results. We have two effects we want to evaluate - Does remdesivir reduce mortality and does remdesivir reduce the time to recovery or clinical improvement. Run the cells below to get the results.\n",
    "### Preprocess Data\n",
    "This function calculates the pooled effect for multiple studies. It utilizes the fixed-effects model."
   ]
  },
  {
   "cell_type": "code",
   "execution_count": 2,
   "id": "33e76a87-fc92-4c62-ad05-7b858e146077",
   "metadata": {},
   "outputs": [],
   "source": [
    "def pooled_effect(df: pd.DataFrame)->tuple:\n",
    "    \"\"\"takes in a data-frame and calculate the pooled fixed effect-size for a meta-analysis\"\"\"\n",
    "    \n",
    "    df_effect = copy.copy(df)\n",
    "    # choose the columns with hazard/rate-ratio, lower confidence-bound and upper confidence-bound\n",
    "    if \"ratio_mortality\" in df_effect.columns:\n",
    "        df_effect = df_effect[[\"ratio_mortality\", \"lower_confidence_bound_mortality\", \"upper_confidence_bound_mortality\"]]\n",
    "    else:\n",
    "        df_effect = df_effect[[\"ratio_recovery\", \"lower_confidence_bound_recovery\", \"upper_confidence_bound_recovery\"]]\n",
    "    # rename the columns to unify both types of outcomes\n",
    "    df_effect.columns = [\"ratio\", \"l\", \"u\"]\n",
    "    \n",
    "    # the confidence intervals can be used to estimate the standard-errors. The log of the ratios is usually apr. normally distributed.\n",
    "    # The critical value for a two-sided 95% confidence interval is 1.96. We calculate the difference of the ci-bounds and divide\n",
    "    # by 2 * 1.96\n",
    "    def st_error(upper, lower):\n",
    "        return  (np.log(upper) - np.log(lower))/3.92\n",
    "    \n",
    "    # The weigth of each study is 1/var(estimate) = 1/std-error**2\n",
    "    def weight(se):\n",
    "        return 1/(se**2)\n",
    "    \n",
    "    # apply the the st-error and weight functions to each row and create new columns containing the new variables.\n",
    "    df_effect[\"se\"] = df_effect.apply(lambda row : st_error(row[\"u\"], row[\"l\"]), axis = 1)\n",
    "    df_effect[\"weight\"] = df_effect.apply(lambda row : weight(row[\"se\"]), axis = 1)\n",
    "    sum_of_weights = df_effect[\"weight\"].sum()\n",
    "    \n",
    "    # the pooled effect is calculated by summing the weighted individual log-effects and dividing by the sum of all weights.\n",
    "    # To get the ratio, we have to take the exp again.\n",
    "    pooled_effect = np.exp((np.log(df_effect[\"ratio\"])*df_effect[\"weight\"]).sum()/sum_of_weights)\n",
    "    pooled_se = (1/sum_of_weights)**0.5\n",
    "    \n",
    "    # All that is missing now are estimate for the confidence interval bounds. Again we leverage the normality-assumotion for logs and\n",
    "    # and and substract the product of the standard-errors and the critical z-value.\n",
    "    pooled_lower_bound = np.exp(np.log(pooled_effect) - 1.96*pooled_se)\n",
    "    pooled_upper_bound = np.exp(np.log(pooled_effect) + 1.96*pooled_se)\n",
    "    \n",
    "    return pooled_effect, pooled_lower_bound, pooled_upper_bound\n",
    "                                      \n",
    "    "
   ]
  },
  {
   "cell_type": "code",
   "execution_count": null,
   "id": "48f836f7-f248-47a1-b8f6-fb2426fd78e6",
   "metadata": {},
   "outputs": [],
   "source": [
    "# load manually coded result into dataframe\n",
    "df_results = pd.read_csv(\"result_table.csv\", sep= \";\")\n",
    "\n",
    "# choose subset of columns for mortality-data\n",
    "df_mortality = df_results[[\"pmc\", \"ratio_mortality\", \"lower_confidence_bound_mortality\", \"upper_confidence_bound_mortality\", \n",
    "                          \"p_value_mortality\", \"sample_size_remdesivir_mortality\", \"sample_size_control_mortality\", \"placebo_controlled\"]]\n",
    "# drop all rows in which there is no ratio for mortality recorded\n",
    "df_mortality = df_mortality.dropna(subset=['ratio_mortality'])\n",
    "df_mortality = df_mortality.reset_index(drop=True)\n",
    "\n",
    "# do the same for the improvement/recovery data\n",
    "df_improvement = df_results[[\"pmc\", \"ratio_recovery\", \"lower_confidence_bound_recovery\", \"upper_confidence_bound_recovery\", \n",
    "                          \"p_value_recovery\", \"sample_size_remdesivir_recovery\", \"sample_size_control_recovery\", \"placebo_controlled\"]]\n",
    "df_improvement = df_improvement.dropna(subset=[\"ratio_recovery\"])\n",
    "df_improvement = df_improvement.reset_index(drop=True)\n",
    "\n",
    "# Add rows for pooled effects to data-frames. We create a list of all necessary values for a row. The label, the effect with both confidence bounts, no p-value,\n",
    "# a sum of all participants per group and no value for placebo-indicator.\n",
    "row_pooled_mortality = [\"mortality_pooled\"] + list(pooled_effect(df_mortality))  +[np.nan,df_mortality[\"sample_size_remdesivir_mortality\"].sum(),\n",
    "                                                                                   df_mortality[\"sample_size_control_mortality\"].sum(),np.nan] \n",
    "df_mortality.loc[len(df_mortality)] = row_pooled_mortality\n",
    "row_pooled_improvement = [\"improvement_pooled\"] + list(pooled_effect(df_improvement))  +[np.nan,df_improvement[\"sample_size_remdesivir_recovery\"].sum(),\n",
    "                                                                                         df_improvement[\"sample_size_control_recovery\"].sum(),np.nan] \n",
    "df_improvement.loc[len(df_improvement)] = row_pooled_improvement\n",
    "\n",
    "# change names of columns and reorder them.\n",
    "df_improvement_processed = pd.DataFrame(columns = [\"study\", \"response\",\"effect-size\", \"ll\", \"hl\", \"p\", \"n_remdesivir\", \"n_control\", \"placebo\"])\n",
    "df_improvement_processed[[\"study\", \"effect-size\", \"ll\", \"hl\", \"p\", \"n_remdesivir\", \"n_control\", \"placebo\"]] = df_improvement[\n",
    "    [\"pmc\", \"ratio_recovery\", \"lower_confidence_bound_recovery\", \"upper_confidence_bound_recovery\", \"p_value_recovery\", \"sample_size_remdesivir_recovery\", \n",
    "     \"sample_size_control_recovery\",\"placebo_controlled\"]]\n",
    "\n",
    "df_improvement_processed[\"response\"] = \"recovery\"\n",
    "df_improvement_processed [\"placebo\"] = df_improvement_processed[\"placebo\"].astype(bool)\n",
    "df_improvement_processed.loc[df_improvement_processed.study == \"improvement_pooled\",\"placebo\"] = np.nan\n",
    "\n",
    "# calculate overall n per study and sort data-frame by n\n",
    "df_improvement_processed[\"N\"] = df_improvement_processed.n_remdesivir + df_improvement_processed.n_control\n",
    "df_improvement_processed = df_improvement_processed.sort_values(by=[\"N\"], ascending=False)\n",
    "df_improvement_processed = df_improvement_processed.reset_index(drop=True)\n",
    "\n",
    "# for the plots below, each study needs a unique identifier. Some studys are included in both mortality and recovery subgroups. Add an identifier\n",
    "df_improvement_processed[\"study\"] = df_improvement_processed[\"study\"]+ \" r\"\n",
    "\n",
    "# repeat steps for other subgroup\n",
    "df_mortality_processed = pd.DataFrame(columns = [\"study\", \"response\",\"effect-size\", \"ll\", \"hl\", \"p\", \"n_remdesivir\", \"n_control\", \"placebo\"])\n",
    "df_mortality_processed[[\"study\", \"effect-size\", \"ll\", \"hl\", \"p\", \"n_remdesivir\", \"n_control\", \"placebo\"]] = df_mortality[\n",
    "    [\"pmc\", \"ratio_mortality\", \"lower_confidence_bound_mortality\", \"upper_confidence_bound_mortality\", \"p_value_mortality\", \"sample_size_remdesivir_mortality\", \"sample_size_control_mortality\",\"placebo_controlled\"]]\n",
    "df_mortality_processed[\"response\"] = \"mortality\"\n",
    "df_mortality_processed [\"placebo\"] = df_mortality_processed[\"placebo\"].astype(bool)\n",
    "df_mortality_processed.loc[df_mortality_processed.study == \"mortality_pooled\",\"placebo\"] = np.nan\n",
    "df_mortality_processed[\"N\"] = df_mortality_processed.n_remdesivir + df_mortality_processed.n_control\n",
    "df_mortality_processed = df_mortality_processed.sort_values(by=[\"N\"], ascending=False)\n",
    "df_mortality_processed = df_mortality_processed.reset_index(drop=True)\n",
    "df_mortality_processed[\"study\"] = df_mortality_processed[\"study\"]+ \" m\"\n",
    "df_total = pd.concat([df_mortality_processed,df_improvement_processed] )\n",
    "df_total = df_total.reset_index(drop=True)\n",
    "df_total[\"N\"] = df_total[\"N\"].astype(\"O\")\n",
    "for i in range(len(df_total)):\n",
    "    if df_total.at[i,\"study\"] == \"improvement_pooled r\":\n",
    "        df_total.at[i,\"study\"] = \"recovery pooled\"\n",
    "    if df_total.at[i,\"study\"] == \"mortality_pooled m\":\n",
    "        df_total.at[i,\"study\"] = \"mortality pooled\"\n",
    "df_total"
   ]
  },
  {
   "cell_type": "markdown",
   "id": "72d9eaf2-3397-4a8c-bd6a-573ec19333c9",
   "metadata": {},
   "source": [
    "### Significance Test for pooled effects.\n",
    "We are going to use the confidence-interval significance test. We are checking if the value 1 is within the 95% Confidence Interval. The value of 1 indicates that the groups do not differ with respect to the outcome-measure,as the measure is a ratio."
   ]
  },
  {
   "cell_type": "code",
   "execution_count": 4,
   "id": "9777eb5c-d759-4c25-8b69-f260b9e9bd34",
   "metadata": {},
   "outputs": [
    {
     "name": "stdout",
     "output_type": "stream",
     "text": [
      "confidence interval for clinical recovery or improvement [0.7125795963145016,0.9967472701424689]\n",
      "Treamtment with remdesivir is associated with a significantly lower mortality-rate\n",
      "\n",
      "confidence interval for clinical recovery or improvement [1.0254684086906964,1.2280504410758566]\n",
      "Treamtment with remdesivir is associated with a significantly faster recovery or clinical improvement\n"
     ]
    }
   ],
   "source": [
    "mortality_ll = df_total.loc[df_total.study == \"mortality pooled\",\"ll\"].values[0]\n",
    "mortality_hl = df_total.loc[df_total.study == \"mortality pooled\",\"hl\"].values[0]\n",
    "print(\"confidence interval for clinical recovery or improvement [{},{}]\".format(mortality_ll,mortality_hl))\n",
    "if mortality_hl < 1:\n",
    "    print(\"Treamtment with remdesivir is associated with a significantly lower mortality-rate\")\n",
    "elif mortality_ll > 1:\n",
    "    print(\"Treamtment with remdesivir is associated with a significantly higher mortality-rate\")\n",
    "else:\n",
    "    print(\"Treamtment with remdesivir is not associated with a significantly faster recovery or clinical improvement\")\n",
    "    \n",
    "improvement_ll = df_total.loc[df_total.study == \"recovery pooled\",\"ll\"].values[0]\n",
    "improvement_hl = df_total.loc[df_total.study == \"recovery pooled\",\"hl\"].values[0]\n",
    "print(\"\\nconfidence interval for clinical recovery or improvement [{},{}]\".format(improvement_ll,improvement_hl))\n",
    "if improvement_ll > 1:\n",
    "    print(\"Treamtment with remdesivir is associated with a significantly faster recovery or clinical improvement\")\n",
    "elif improvement_hl < 1:\n",
    "    print(\"Treamtment with remdesivir is associated with a significantly slower recovery or clinical improvement\")\n",
    "else:\n",
    "    print(\"Treamtment with remdesivir is not associated with a significantly faster recovery or clinical improvement\")"
   ]
  },
  {
   "cell_type": "markdown",
   "id": "2cbfb98d-6cda-4dcc-a1ef-93ba81ea155a",
   "metadata": {},
   "source": [
    "### Create Forestplot\n",
    "Now that we know if the pooled outcome was significant or not, let's visualize our results with a forest plot."
   ]
  },
  {
   "cell_type": "code",
   "execution_count": null,
   "id": "56aeae66-63d2-4334-a5e7-a2ae3ec7591c",
   "metadata": {},
   "outputs": [],
   "source": [
    "fp.forestplot(df_total,  # the dataframe with results data\n",
    "              estimate=\"effect-size\",  # col containing estimated effect size \n",
    "              ll=\"ll\", hl=\"hl\",  # lower & higher limits of conf. int.\n",
    "              varlabel=\"study\",  # column containing the varlabels to be printed on far left\n",
    "              pval=\"p\",  # column containing p-values to be formatted\n",
    "              annote=[\"N\"],  # columns to report on left of plot\n",
    "              annoteheaders=[\"N\"],  # ^corresponding headers\n",
    "              rightannote=[\"formatted_pval\", \"est_ci\", \"placebo\"],  # columns to report on right of plot \n",
    "              right_annoteheaders=[\"p\",\"Confidence Interval\",\"Placebo\"],  # ^corresponding headers\n",
    "              groupvar = \"response\",\n",
    "              group_order=[\"mortality\", \"recovery\"],    \n",
    "              xlabel=\"ratio\",  # x-label title\n",
    "              xline = 1,\n",
    "              xlinestyle = (1, (10, 5)),\n",
    "              figsize = (8,8),\n",
    "            table=True)\n",
    "plt.suptitle('Forest Plot of Rate- or Hazard-Ratios for Effect of Remdesivir on Covid-19', fontsize=16)\n",
    "plt.figtext(-0.2, 0.01, 'Note: The Variable-column lists the pubmed-central-id of the study for open access. \\\"m\\\" stands for mortality, and \\\"r\\\" for recovery', ha=\"left\", fontsize=12)\n",
    "plt.savefig('Forest Plot.png', bbox_inches='tight')\n",
    "plt.show()"
   ]
  },
  {
   "cell_type": "markdown",
   "id": "8416fac5-7cc4-4284-be99-aeb209060b5b",
   "metadata": {},
   "source": [
    "### Create Funnelplots\n",
    "We can test for publication-bias graphically with funnelplots. Funnelplots show the expected variations of effects, given that there is no publication bias. The larger the standard-error of an effect is, the larger the expected variability in reported effects. If there is no publication-bias, the effects will be symmetrically aligned around the line of the pooled effect-size. If there is a publication bias, the studies with smaller effect will be skewed towards the significant side. In the case of the effect size being mortality, the effect of studies with smaller sample sizes (larger standard error) will be skewed towards the left of the plot, while for the recovery-measure they will be skewed towards the right of the plot. This however only meaningfully works, if there are a sufficient number of studies, which might not be the case <br>\n",
    "The effect-sizes only vary symmetrically if we take the logs of the rates first. The lined diagonal blue lines show where 95% of effects is expected to be in for the pooled effect-size."
   ]
  },
  {
   "cell_type": "code",
   "execution_count": null,
   "id": "e72911e9-76bc-46d4-b036-1830ad6de3d8",
   "metadata": {},
   "outputs": [],
   "source": [
    "# Run the cell to create funnel plot for mortality\n",
    "df_mortality_processed[\"SE\"] = (np.log(df_mortality_processed.hl) - np.log(df_mortality_processed.ll))/3.92\n",
    "fig=plt.figure(figsize=(9,8))\n",
    "fig.suptitle('Funnel Plot of Logarithmic Mortality Hazard-Ratios', fontsize=16)\n",
    "ax=plt.gca()\n",
    "x=np.log(df_mortality_processed.loc[1:,\"effect-size\"])\n",
    "y=df_mortality_processed[\"SE\"].loc[1:]\n",
    "log_effect_pooled=np.log(df_mortality_processed.loc[0, \"effect-size\"])   \n",
    "\n",
    "plt.xlim(min(x)-1.1*1.96*max(y),max(x)+1.1*1.96*max(y))  #the xlim can change manually\n",
    "plt.ylim(max(y)+0.02,0)\n",
    "\n",
    "plt.plot ([0,(-1.96*max(y))],[0,max(y)], linestyle=\"None\", lw=1)\n",
    "plt.plot ([0,(1.96*max(y))],[0,max(y)], linestyle=\"None\", lw=1)\n",
    "\n",
    "plt.plot ([log_effect_pooled,log_effect_pooled],[0,max(y)],color=\"blue\", linestyle=\"--\", lw=1)\n",
    "plt.plot ([log_effect_pooled,log_effect_pooled-1.96*max(y)],[0,max(y)],color=\"blue\", linestyle=\"--\", lw=1)\n",
    "plt.plot ([log_effect_pooled,log_effect_pooled+1.96*max(y)],[0,max(y)],color=\"blue\", linestyle=\"--\", lw=1)\n",
    "plt.plot(x,y,\"o\",lw=1,color=\"k\")\n",
    "\n",
    "plt.xlabel(\"Log Hazard-Ratio\",fontsize=14 )\n",
    "plt.ylabel(\"Standard Error\",fontsize=14,rotation=90 )\n",
    "\n",
    "plt.show()"
   ]
  },
  {
   "cell_type": "code",
   "execution_count": null,
   "id": "52adb891-59fb-4dec-a218-ccdb0e96591f",
   "metadata": {},
   "outputs": [],
   "source": [
    "# Run the cell to create funnel plot for recovery\n",
    "from matplotlib.lines import Line2D\n",
    "df_improvement_processed[\"SE\"] = (np.log(df_improvement_processed.hl) - np.log(df_improvement_processed.ll))/3.92\n",
    "fig=plt.figure(figsize=(9,8))\n",
    "fig.suptitle('Funnel Plot of Logarithmic Recovery Rate-Ratios', fontsize=16)\n",
    "ax=plt.gca()\n",
    "x=np.log(df_improvement_processed.loc[1:,\"effect-size\"])\n",
    "y=df_improvement_processed.loc[1:,\"SE\"]     \n",
    "log_effect_pooled=np.log(df_improvement_processed.loc[0, \"effect-size\"])   \n",
    "\n",
    "plt.xlim(min(x)-1.1*1.96*max(y),max(x)+1.1*1.96*max(y))  #the xlim can change manually\n",
    "plt.ylim(max(y)+0.02,0)\n",
    "   \n",
    "\n",
    "plt.plot ([0,(-1.96*max(y))],[0,max(y)], linestyle=\"None\", lw=1)\n",
    "plt.plot ([0,(1.96*max(y))],[0,max(y)], linestyle=\"None\", lw=1)\n",
    "\n",
    "plt.plot ([log_effect_pooled,log_effect_pooled],[0,max(y)],color=\"blue\", linestyle=\"--\", lw=1)\n",
    "plt.plot ([log_effect_pooled,log_effect_pooled-1.96*max(y)],[0,max(y)],color=\"blue\", linestyle=\"--\", lw=1)\n",
    "plt.plot ([log_effect_pooled,log_effect_pooled+1.96*max(y)],[0,max(y)],color=\"blue\", linestyle=\"--\", lw=1)\n",
    "plt.plot(x,y,\"o\",lw=1,color=\"k\")\n",
    "\n",
    "plt.xlabel(\"Log Rate-Ratio\",fontsize=14 )\n",
    "plt.ylabel(\"Standard Error\",fontsize=14,rotation=90 )\n",
    "\n",
    "plt.show()"
   ]
  },
  {
   "cell_type": "markdown",
   "id": "3fd3f196-4a80-41d5-9805-5a80f50fb5b0",
   "metadata": {},
   "source": [
    "Congratulations, you finished the systematic review. Now you can compare your results to mine. My plots can be found in the zip-folder results_locked. The password is Ilovesystematicreview"
   ]
  },
  {
   "cell_type": "code",
   "execution_count": null,
   "id": "44fbe823-639e-46d2-abed-e613afcbbbd1",
   "metadata": {},
   "outputs": [],
   "source": []
  }
 ],
 "metadata": {
  "kernelspec": {
   "display_name": "covid_review",
   "language": "python",
   "name": "covid_review"
  },
  "language_info": {
   "codemirror_mode": {
    "name": "ipython",
    "version": 3
   },
   "file_extension": ".py",
   "mimetype": "text/x-python",
   "name": "python",
   "nbconvert_exporter": "python",
   "pygments_lexer": "ipython3",
   "version": "3.9.14"
  }
 },
 "nbformat": 4,
 "nbformat_minor": 5
}
