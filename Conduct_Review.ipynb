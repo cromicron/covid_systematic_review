{
 "cells": [
  {
   "cell_type": "markdown",
   "id": "0a8263ca-4d6b-4993-88f3-f61feee1b92f",
   "metadata": {},
   "source": [
    "# Treatment of Covid-19 with Remdesivir - Systematic Review and Meta-Analysis"
   ]
  },
  {
   "cell_type": "code",
   "execution_count": 1,
   "id": "f1be7e91-42f3-4bd2-8e4b-0110ca83c7e6",
   "metadata": {},
   "outputs": [],
   "source": [
    "from bs4 import BeautifulSoup\n",
    "import numpy as np\n",
    "import pandas as pd\n",
    "import re\n",
    "from urllib.request import Request, urlopen\n",
    "from urllib.error import HTTPError"
   ]
  },
  {
   "cell_type": "markdown",
   "id": "41671833-f400-4d95-9e2a-e584978361d7",
   "metadata": {},
   "source": [
    "## Search pubmed for appropriate studies\n",
    "1. Click on this [link](https://pubmed.ncbi.nlm.nih.gov/)\n",
    "2. Type \"((((((covid[Title/Abstract]) OR (corona[Title/Abstract])) OR (sars-cov-2[Title/Abstract])) AND (remdesivir[Title/Abstract])) NOT (meta-analysis[Title/Abstract])) NOT (meta analysis[Title/Abstract])) NOT (review[Title/Abstract])) (meta-analyses[Title/Abstract])) NOT (meta analyses[Title/Abstract]))\" into search box\n",
    "3. On the left hand side check \"Free Full Text\"\n",
    "4. Click on save and select all results in selection and format Pubmed\n",
    "5. Click on create file and save it under the name search_results.txt"
   ]
  },
  {
   "cell_type": "markdown",
   "id": "1e68da3e-dc64-4830-9a16-f26ce0624846",
   "metadata": {},
   "source": [
    "## Automated Filtering\n",
    "### Filter for Randomized Control Trials\n",
    "We only want to include randomized control trials in our meta-analysis. We are using a machine learning tool called robotsearch to filter out only the studies from the pubmed search which used a ranodmized control trial design.\n",
    "1. Move the file search_results.txt into the robotsearch directory\n",
    "2. Open Anaconda\n",
    "3. `cd` your way into the robotsearch directory\n",
    "4. If the environment is not activated type `conda activate covid_review`.\n",
    "5. Run `python setup.py install`.\n",
    "3. Run `robotsearch search_reults.txt` \n",
    "\n",
    "The results are saved in the file search_reults_robotviewer_RCTs.txt. Let's look at the result"
   ]
  },
  {
   "cell_type": "code",
   "execution_count": 2,
   "id": "2a42acd7-d93b-4148-958e-4554b38c0262",
   "metadata": {},
   "outputs": [
    {
     "name": "stdout",
     "output_type": "stream",
     "text": [
      "other non numbered\n",
      "other non numbered\n",
      "The inital search result has 672 articles\n",
      "159 articles were classified as rcts\n"
     ]
    }
   ],
   "source": [
    "from robotsearch.parsers import ris\n",
    "file_input = \"robotsearch/search_results.txt\"\n",
    "file_result = \"robotsearch/search_results_robotreviewer_RCTs.txt\"\n",
    "with open(file_input, 'r', encoding=\"utf8\") as f:\n",
    "    inp = ris.load(f)\n",
    "with open(file_result, 'r', encoding=\"utf8\") as f:\n",
    "    result = ris.load(f)\n",
    "print(\"The inital search result has {} articles\".format(len(inp)))\n",
    "print(\"{} articles were classified as rcts\".format(len(result)))"
   ]
  },
  {
   "cell_type": "code",
   "execution_count": 17,
   "id": "935693c4-651d-4439-ad09-c53df1e36a59",
   "metadata": {},
   "outputs": [
    {
     "name": "stdout",
     "output_type": "stream",
     "text": [
      "155 studies have a pmc-identifier and can be accessed through pubmed open-access\n"
     ]
    }
   ],
   "source": [
    "#extract PMC - they are found in the 'PMC' key.\n",
    "pmcs = []\n",
    "for i in range(len(result)):\n",
    "    if \"PMC\" in result[i].keys():\n",
    "        id_raw = result[i]['PMC'][0]\n",
    "        pmc = id_raw.strip()\n",
    "        pmcs.append(pmc)\n",
    "\n",
    "print(\"{} studies have a pmc-identifier and can be accessed through pubmed open-access\".format(len(pmcs)))"
   ]
  },
  {
   "cell_type": "markdown",
   "id": "0542c5ed-4bc7-4017-ad82-b9118b9af1da",
   "metadata": {},
   "source": [
    "### Filter for Outcome\n",
    "Let's reduce the number even further by checking if the article contains necessary information. Here we only want articles that use time to clinical improvement. The article has to include the meassure hazard ratio"
   ]
  },
  {
   "cell_type": "code",
   "execution_count": null,
   "id": "5b4cf967-288f-476a-b30b-52062fc5cf52",
   "metadata": {},
   "outputs": [],
   "source": [
    "site= \"https://www.ncbi.nlm.nih.gov/pmc/articles/{}/\"\n",
    "hdr = {'User-Agent': 'Mozilla/5.0'}\n",
    "regex_time = r\"method.+(?:time to (?:clinical improvement|recovery))\" # the outcome meassure must come after the word method, so it is like mentioned in the methods or results section\n",
    "regex_hr = r\"method.+(?:hazard|odds|rate)[\\s-]ratio\"\n",
    "pmcs_outcome = []\n",
    "for i in range(len(pmcs)):\n",
    "    print(i)\n",
    "    url = site.format(pmcs[i])\n",
    "    req = Request(url,headers=hdr)\n",
    "    try:\n",
    "        page = urlopen(req)\n",
    "        soup = BeautifulSoup(page)\n",
    "        if re.search(regex_time, soup.prettify(), re.DOTALL|re.IGNORECASE) and re.search(regex_hr, soup.prettify(), re.DOTALL|re.IGNORECASE):\n",
    "            print(True)\n",
    "            pmcs_outcome.append(pmcs[i])\n",
    "    except HTTPError:\n",
    "        print(\"httperror\")"
   ]
  },
  {
   "cell_type": "code",
   "execution_count": 5,
   "id": "d6c95326-dc98-46ad-bbad-c51b5b221210",
   "metadata": {},
   "outputs": [
    {
     "name": "stdout",
     "output_type": "stream",
     "text": [
      "52 articles contain time to clinical improvement/recovery and propper outcome meassure\n"
     ]
    }
   ],
   "source": [
    "print(\"{} articles contain time to clinical improvement/recovery and propper outcome meassure\".format(len(pmcs_outcome)))\n",
    "with open(\"papers_html.txt\", \"w\") as f:\n",
    "    for pmc in pmcs_outcome:\n",
    "        f.write(\"%s\\n\" % \"https://www.ncbi.nlm.nih.gov/pmc/articles/{}/\".format(pmc))"
   ]
  },
  {
   "cell_type": "code",
   "execution_count": 19,
   "id": "af3d4702-022a-4615-af31-6e07c03af8e1",
   "metadata": {},
   "outputs": [
    {
     "ename": "NameError",
     "evalue": "name 'pmcs_outcome' is not defined",
     "output_type": "error",
     "traceback": [
      "\u001b[1;31m---------------------------------------------------------------------------\u001b[0m",
      "\u001b[1;31mNameError\u001b[0m                                 Traceback (most recent call last)",
      "\u001b[1;32m<ipython-input-19-47b460e7fb16>\u001b[0m in \u001b[0;36m<module>\u001b[1;34m\u001b[0m\n\u001b[0;32m      1\u001b[0m \u001b[0mscreening_results\u001b[0m \u001b[1;33m=\u001b[0m \u001b[0mpd\u001b[0m\u001b[1;33m.\u001b[0m\u001b[0mDataFrame\u001b[0m\u001b[1;33m(\u001b[0m\u001b[0mcolumns\u001b[0m \u001b[1;33m=\u001b[0m \u001b[1;33m[\u001b[0m\u001b[1;34m'pmc'\u001b[0m\u001b[1;33m,\u001b[0m \u001b[1;34m'non_retracted'\u001b[0m\u001b[1;33m,\u001b[0m \u001b[1;34m'randomized_controlled'\u001b[0m\u001b[1;33m,\u001b[0m \u001b[1;34m'placebo_controlled'\u001b[0m\u001b[1;33m,\u001b[0m \u001b[1;34m'adults'\u001b[0m\u001b[1;33m,\u001b[0m \u001b[1;34m'infected'\u001b[0m\u001b[1;33m,\u001b[0m \u001b[1;34m'remdesivir_only'\u001b[0m\u001b[1;33m,\u001b[0m \u001b[1;34m'propper_outcome'\u001b[0m\u001b[1;33m]\u001b[0m\u001b[1;33m)\u001b[0m\u001b[1;33m\u001b[0m\u001b[1;33m\u001b[0m\u001b[0m\n\u001b[1;32m----> 2\u001b[1;33m \u001b[0mscreening_results\u001b[0m\u001b[1;33m[\u001b[0m\u001b[1;34m'pmc'\u001b[0m\u001b[1;33m]\u001b[0m \u001b[1;33m=\u001b[0m \u001b[0mnp\u001b[0m\u001b[1;33m.\u001b[0m\u001b[0marray\u001b[0m\u001b[1;33m(\u001b[0m\u001b[0mpmcs_outcome\u001b[0m\u001b[1;33m)\u001b[0m\u001b[1;33m\u001b[0m\u001b[1;33m\u001b[0m\u001b[0m\n\u001b[0m\u001b[0;32m      3\u001b[0m \u001b[0mscreening_results\u001b[0m\u001b[1;33m.\u001b[0m\u001b[0mto_csv\u001b[0m\u001b[1;33m(\u001b[0m\u001b[1;34m\"screening_results.csv\"\u001b[0m\u001b[1;33m,\u001b[0m \u001b[0mindex\u001b[0m \u001b[1;33m=\u001b[0m \u001b[1;32mFalse\u001b[0m\u001b[1;33m,\u001b[0m \u001b[0msep\u001b[0m \u001b[1;33m=\u001b[0m \u001b[1;34m\";\"\u001b[0m\u001b[1;33m)\u001b[0m\u001b[1;33m\u001b[0m\u001b[1;33m\u001b[0m\u001b[0m\n",
      "\u001b[1;31mNameError\u001b[0m: name 'pmcs_outcome' is not defined"
     ]
    }
   ],
   "source": [
    "screening_results = pd.DataFrame(columns = ['pmc', 'non_retracted', 'randomized_controlled', 'placebo_controlled', 'adults', 'infected', 'remdesivir_only', 'propper_outcome'])\n",
    "screening_results['pmc'] = np.array(pmcs_outcome)\n",
    "screening_results.to_csv(\"screening_results.csv\", index = False, sep = \";\")"
   ]
  },
  {
   "cell_type": "markdown",
   "id": "75ee4733-2fed-4b46-ab89-17215e222781",
   "metadata": {},
   "source": [
    "## Manual Screening of Articles\n",
    "Now that we filtered out the promising studies, we must manually check for their eligibility. Even though we automated the classification as randomized controll trial, we must check for errors. We follow the following protocol. Open the file papers_html.txt. Apply to protocol to each study individually. Open the file screening_results.csv in a csv-editor of your choice to record your results. Type 1 into the cell if criterion is met and 0 if it is not met. Stop checking the other criteria once you coded one as 0 and continue to the next. Note that initially when this protocol was created, studies had to include a placebo-group. This turned out to too strict a criterion, because only two studies fulfilled all criteria. Therefore we decided to include open-label studies.\n",
    "### Not retracted\n",
    "If the article has been retracted, it shows in a red box on top of the webpage. It's impossible to miss.\n",
    "### Randomized Controlled Trial\n",
    "Randomized Clinical Trials are those in which patients are assigned randomly to a group receiving treatment with Remdesivir and a placebo-group. Check the abstract and methods secion to check if the papers are randomized control trials. Don't include studies, in which both experimental and control group involves Remdesivir but different dossage. Keywords indicating that a study is not an RCT are: \"retrospective\" study or analysis or observational cohort study.\n",
    "### Majority Aduls. \n",
    "Check if proportion of age above 18 is >95%\n",
    "### Participants infected \n",
    "Participants must be infected with Covid-19. No studies analysing Remdesivir as a prevention treatment should be included.\n",
    "### Remdesivir only \n",
    "The only difference between treatment- and control-group should be whether patients received remdesivir or not. Control groups can be placebo or standard-care. If multiple treatments are tested, the study must include a comparison of remdesivir with a placebo or standard care group.\n",
    "### Propper outcome\n",
    "To assess the effectiveness of treatment with Remdesivir compared to the placebo or standard-care, there must be a propper effect-meassure reported. \n",
    "Check if at least one of the outcomes \"time to recovery\" or \"time to clinical improvement\" or equivalent meassures has one of these meassures associated with it: odds-ratio, hazard-ratio, rate-ratio. Keep in mind that what the authors declare as primary outcome might not be the primary outcome for this study. You might even have to look into the appendices to retrieve it.\n",
    "\n",
    "## Extract eligable studies\n",
    "We are going to use the studies that fulfill the above criteria. Execute the cell below to get the studies to be included in the final analysis, after you have comleted and saved the screening of articles."
   ]
  },
  {
   "cell_type": "code",
   "execution_count": null,
   "id": "adf40bd0-9395-43cb-8fd8-6f2724207710",
   "metadata": {},
   "outputs": [],
   "source": [
    "# Please make sure to save your screening_results.csv properly. In Germany the default seperator is semicolon.\n",
    "df_screening = pd.read_csv(\"screening_results.csv\",sep=\";\")\n",
    "df_screening = df_screening.fillna(0)\n",
    "df_screening[\"eligable\"] = (df_screening.iloc[:,1:].sum(axis = 1)/7).astype(int).astype(bool)\n",
    "eligable_studies = list(df_screening.loc[df_screening.eligable == True,\"pmc\"])\n",
    "print(\"{} studies were found to be eligable\".format(len(eligable_studies)))\n",
    "for i in range(len(eligable_studies)):\n",
    "    print(\"https://www.ncbi.nlm.nih.gov/pmc/articles/{}/\".format(eligable_studies[i]))"
   ]
  },
  {
   "cell_type": "markdown",
   "id": "68dde371-c451-4592-9a46-cb7fb6e9e676",
   "metadata": {
    "tags": []
   },
   "source": [
    "## Extract Relevant Data\n",
    "for each of the studies, extract the sample size, and the relevant outcome meassure with confidence interval. The outcome meassure is time to recovery. Sometimes the acutal name of the variable can be slightly different. If there is no time to recovery improvement meassure, then use time to clinical improvement. Extract the values for both the remdesivir-group and the placebo group. The effect meassure is recorded as a ratio: either hazard-ratio, odds-ratio or rate_ratio. Use whatever ratio the authors used in the study to quantify the difference. As covariate document if the study was placebo or open-label."
   ]
  }
 ],
 "metadata": {
  "kernelspec": {
   "display_name": "covid_review",
   "language": "python",
   "name": "covid_review"
  },
  "language_info": {
   "codemirror_mode": {
    "name": "ipython",
    "version": 3
   },
   "file_extension": ".py",
   "mimetype": "text/x-python",
   "name": "python",
   "nbconvert_exporter": "python",
   "pygments_lexer": "ipython3",
   "version": "3.6.13"
  }
 },
 "nbformat": 4,
 "nbformat_minor": 5
}
