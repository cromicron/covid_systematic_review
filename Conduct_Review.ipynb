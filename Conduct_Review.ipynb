{
 "cells": [
  {
   "cell_type": "markdown",
   "id": "0a8263ca-4d6b-4993-88f3-f61feee1b92f",
   "metadata": {},
   "source": [
    "# Treatment of Covid-19 with Remdesivir - Systematic Review and Meta-Analysis"
   ]
  },
  {
   "cell_type": "markdown",
   "id": "41671833-f400-4d95-9e2a-e584978361d7",
   "metadata": {},
   "source": [
    "## Search pubmed for appropriate studies\n",
    "1. Click on this [link](https://pubmed.ncbi.nlm.nih.gov/)\n",
    "2. Type \"(((remdesivir) AND (covid)) NOT (review)) NOT (meta)\" into search box\n",
    "3. On the right hand side check \"Free Full Text\"\n",
    "4. Click on save and select all results in selection and format Pubmed\n",
    "5. Click on create file and save it under the name remdesivir.txt"
   ]
  },
  {
   "cell_type": "markdown",
   "id": "1e68da3e-dc64-4830-9a16-f26ce0624846",
   "metadata": {},
   "source": [
    "## Filter for Randomized Control Trials\n",
    "We only want to include randomized control trials in our meta-analysis. We are using a machine learning tool called robotsearch to filter out only the studies from the pubmed search which used a ranodmized control trial design.\n",
    "1. Move the file into the robotsearch directory\n",
    "2. Setup virtual environment for robotsearch\n",
    "    1. To use as a Python package you will need an install of conda. [Miniconda](https://docs.conda.io/en/latest/miniconda.html) is a good choice.\n",
    "    2. `cd` your way into the cloned repo.\n",
    "    3. Run `conda env create -f rs_env.yml` to create the environment with the required packages.\n",
    "    4. Activate the conda environment `conda activate robotsearch`.\n",
    "    5. Run `python setup.py install`.\n",
    "3. Run `robotsearch remdesivir.txt` \n",
    "\n",
    "The results are saved in the file remdesivir_robotviewer_RCTs.txt. Let's look at the result"
   ]
  },
  {
   "cell_type": "code",
   "execution_count": 40,
   "id": "2a42acd7-d93b-4148-958e-4554b38c0262",
   "metadata": {},
   "outputs": [
    {
     "name": "stdout",
     "output_type": "stream",
     "text": [
      "other non numbered\n",
      "other non numbered\n",
      "The inital search result has 1847 articles\n",
      "295 articles were classified as rcts\n"
     ]
    }
   ],
   "source": [
    "from robotsearch.parsers import ris\n",
    "file_input = \"robotsearch/remdesivir.txt\"\n",
    "file_result = \"robotsearch/remdesivir_robotreviewer_RCTs.txt\"\n",
    "with open(file_input, 'r', encoding=\"utf8\") as f:\n",
    "    inp = ris.load(f)\n",
    "with open(file_result, 'r', encoding=\"utf8\") as f:\n",
    "    result = ris.load(f)\n",
    "print(\"The inital search result has {} articles\".format(len(inp)))\n",
    "print(\"{} articles were classified as rcts\".format(len(result)))"
   ]
  },
  {
   "cell_type": "code",
   "execution_count": 196,
   "id": "935693c4-651d-4439-ad09-c53df1e36a59",
   "metadata": {},
   "outputs": [
    {
     "data": {
      "text/plain": [
       "286"
      ]
     },
     "execution_count": 196,
     "metadata": {},
     "output_type": "execute_result"
    }
   ],
   "source": [
    "#extract PMID - they are found in the 'PMID' key.\n",
    "pmcs = []\n",
    "for i in range(len(result)):\n",
    "    if \"PMC\" in result[i].keys():\n",
    "        id_raw = result[i]['PMC'][0]\n",
    "        pmc = id_raw.strip()\n",
    "        pmcs.append(pmc)\n",
    "len(pmcs)"
   ]
  },
  {
   "cell_type": "markdown",
   "id": "0542c5ed-4bc7-4017-ad82-b9118b9af1da",
   "metadata": {},
   "source": [
    "Let's reduce the number even further by checking if the article contains necessary information. Here we only want articles that use time to clinical improvement. The article has to include the meassure hazard ratio"
   ]
  },
  {
   "cell_type": "code",
   "execution_count": 291,
   "id": "5b4cf967-288f-476a-b30b-52062fc5cf52",
   "metadata": {},
   "outputs": [
    {
     "name": "stdout",
     "output_type": "stream",
     "text": [
      "250\n",
      "251\n",
      "252\n",
      "253\n",
      "254\n",
      "True\n",
      "255\n",
      "256\n",
      "257\n",
      "258\n",
      "259\n",
      "260\n",
      "261\n",
      "262\n",
      "263\n",
      "264\n",
      "265\n",
      "266\n",
      "267\n",
      "268\n",
      "269\n",
      "270\n",
      "271\n",
      "272\n",
      "273\n",
      "274\n",
      "275\n",
      "276\n",
      "277\n",
      "278\n",
      "279\n",
      "280\n",
      "281\n",
      "282\n",
      "283\n",
      "284\n",
      "285\n"
     ]
    }
   ],
   "source": [
    "from bs4 import BeautifulSoup\n",
    "from urllib.request import Request, urlopen\n",
    "from urllib.error import HTTPError\n",
    "site= \"https://www.ncbi.nlm.nih.gov/pmc/articles/{}/\"\n",
    "hdr = {'User-Agent': 'Mozilla/5.0'}\n",
    "regex_time = r\"method.+time to clinical improvement\" # the outcome meassure must come after the word method, so it is like mentioned in the methods or results section\n",
    "regex_hr = r\"method.+hazard[\\s-]ratio\"\n",
    "#pmcs_outcome = []\n",
    "for i in range(250,len(pmcs)):\n",
    "    print(i)\n",
    "    url = site.format(pmcs[i])\n",
    "    req = Request(url,headers=hdr)\n",
    "    try:\n",
    "        page = urlopen(req)\n",
    "        soup = BeautifulSoup(page)\n",
    "        if re.search(regex_time, soup.prettify(), re.DOTALL|re.IGNORECASE) and re.search(regex_hr, soup.prettify(), re.DOTALL|re.IGNORECASE):\n",
    "            print(True)\n",
    "            pmcs_outcome.append(pmcs[i])\n",
    "    except HTTPError:\n",
    "        print(\"httperror\")"
   ]
  },
  {
   "cell_type": "code",
   "execution_count": 293,
   "id": "d6c95326-dc98-46ad-bbad-c51b5b221210",
   "metadata": {},
   "outputs": [
    {
     "name": "stdout",
     "output_type": "stream",
     "text": [
      "25 articles contain time to clinical improvement and hazard ratio\n"
     ]
    }
   ],
   "source": [
    "print(\"{} articles contain time to clinical improvement and hazard ratio\".format(len(pmcs_outcome)))\n",
    "with open(\"pmcs.txt\", \"w\") as f:\n",
    "    for pmc in pmcs_outcome:\n",
    "        f.write(\"%s\\n\" % pmc)"
   ]
  },
  {
   "cell_type": "markdown",
   "id": "75ee4733-2fed-4b46-ab89-17215e222781",
   "metadata": {},
   "source": [
    "## Manual Screening of Articles\n",
    "Now that we filtered out the promising studies, we must manually check for their eligibility. Even though we automated the classification as randomized controll trial, we must check for errors. We follow the following protocol\n",
    "### Randomized Controlled Trial\n",
    "Randomized Clinical Trials are those in which patients are assigned randomly to a group receiving treatment with Remdesivir and a placebo-group. Check the abstract and methods secion to check if the papers are randomized control trials. "
   ]
  },
  {
   "cell_type": "code",
   "execution_count": null,
   "id": "425dac67-c513-4758-8930-fbf92bb3d442",
   "metadata": {},
   "outputs": [],
   "source": [
    "## Adults only. Check min age < 18\n",
    "## Participants infected with Covid-19 -> No prophylactic study\n",
    "## Remdesivir only -> No combination study\n",
    "## Randomized-placebo-controlled\n",
    "## Time to clinical improvement + hazard ratio reported"
   ]
  },
  {
   "cell_type": "code",
   "execution_count": null,
   "id": "d671d3ea-83a6-4abb-87a8-31b0783d9674",
   "metadata": {},
   "outputs": [],
   "source": []
  }
 ],
 "metadata": {
  "kernelspec": {
   "display_name": "covid_review",
   "language": "python",
   "name": "covid_review"
  },
  "language_info": {
   "codemirror_mode": {
    "name": "ipython",
    "version": 3
   },
   "file_extension": ".py",
   "mimetype": "text/x-python",
   "name": "python",
   "nbconvert_exporter": "python",
   "pygments_lexer": "ipython3",
   "version": "3.6.13"
  }
 },
 "nbformat": 4,
 "nbformat_minor": 5
}
