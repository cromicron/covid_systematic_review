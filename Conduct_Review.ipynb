{
 "cells": [
  {
   "cell_type": "markdown",
   "id": "0a8263ca-4d6b-4993-88f3-f61feee1b92f",
   "metadata": {},
   "source": [
    "# Treatment of Covid-19 with Remdesivir - Systematic Review and Meta-Analysis\n",
    "In this notebook you will be guided through all the steps necessary to conduct this systematic review. We have automated as many steps as possible, but there are still a few steps you need to perform manually. If you are unfamiliar with jupyter notebooks, the way to run code within a cell is by clicking on the cell and clicking on the play button or pressing shift+enter. Please be carefull to precisely do each step as is explained here, or your results might not work properly.\n",
    "<br>first let's import all necessary python packages."
   ]
  },
  {
   "cell_type": "code",
   "execution_count": 5,
   "id": "f1be7e91-42f3-4bd2-8e4b-0110ca83c7e6",
   "metadata": {},
   "outputs": [],
   "source": [
    "from bs4 import BeautifulSoup\n",
    "import copy\n",
    "import forestplot as fp\n",
    "import numpy as np\n",
    "import pandas as pd\n",
    "import matplotlib.pyplot as plt\n",
    "import re\n",
    "from urllib.request import Request, urlopen\n",
    "from urllib.error import HTTPError"
   ]
  },
  {
   "cell_type": "markdown",
   "id": "41671833-f400-4d95-9e2a-e584978361d7",
   "metadata": {},
   "source": [
    "## Search pubmed for appropriate studies\n",
    "Pubmed is a database which hosts over 35 million scientific publications in the biomedical literature. Most studies on covid are also available free of charge on their website. The first step is to search for relevant publications. We are interested in studies about covid-19 and remdesivir. More specifically Remdesivir must be mentioned in the title of the publication and either covid, corona, or sars-cov-2 must be mentioned in the title or abstract. We are only looking for original studies and not for other meta-analyses on the subject, so we exclude publications which have the term meta-analysis in the title. Please follow the instructions carefully.\n",
    "1. Click on this [link](https://pubmed.ncbi.nlm.nih.gov/) to visit pubmed.\n",
    "2. Copy this prompt `(((((((covid[Title/Abstract]) OR (corona[Title/Abstract])) OR (sars-cov-2[Title/Abstract])) OR (sars cov 2[Title/Abstract])) AND (remdesivir[Title])) NOT (Meta Analysis[Title])) NOT (Meta-Analysis[Title])) NOT (Review[Title])` into the search box.\n",
    "3. Click on save and select <b>all results</b> (not all resutls on page) in selection and <b>Pubmed</b> in format\n",
    "4. Click on create file and save it under the name <b>search_results.txt</b>"
   ]
  },
  {
   "cell_type": "markdown",
   "id": "1e68da3e-dc64-4830-9a16-f26ce0624846",
   "metadata": {},
   "source": [
    "## Automated Filtering\n",
    "### Filter for Randomized Control Trials\n",
    "We only want to include randomized control trials in our meta-analysis. We are using a machine-learning tool called robotsearch to filter out only the studies from the pubmed search which used a ranodmized control trial design. If you followed the README.md precisely, you already installed the tool. Please follow the instructions carefully.\n",
    "1. Move the file search_results.txt that you just downloaded into the robotsearch directory, which is found within the overally project-directory.\n",
    "2. Open a **new anaconda terminal**. Don't close the one running!\n",
    "3. `cd` your way into the robotsearch directory within the overall covid_systematic_review directory you downloaded from github. To learn about how to change directories in a terminal [visit here](https://www.lifewire.com/change-directories-in-command-prompt-5185508)\n",
    "4. If the environment is not activated type `conda activate covid_review`. You will know if your environment is activated by the first phrase in the parantheses. It should say (covid_review).\n",
    "5. Conda should now be displaing (covid_review) ...\\robotsearch>. Run `robotsearch search_results.txt -p` Don't forget the -p-flag, or the results will contain too many false positives you will have to manually check later.\n",
    "\n",
    "The results are saved in the file search_reults_robotviewer_RCTs.txt. Let's look at the result, by simply running the cell below."
   ]
  },
  {
   "cell_type": "code",
   "execution_count": 2,
   "id": "2a42acd7-d93b-4148-958e-4554b38c0262",
   "metadata": {},
   "outputs": [
    {
     "name": "stdout",
     "output_type": "stream",
     "text": [
      "other non numbered\n",
      "other non numbered\n",
      "The inital search result has 821 articles\n",
      "30 articles were classified as rcts\n"
     ]
    }
   ],
   "source": [
    "from robotsearch.parsers import ris\n",
    "file_input = \"robotsearch/search_results.txt\"\n",
    "file_result = \"robotsearch/search_results_robotreviewer_RCTs.txt\"\n",
    "with open(file_input, 'r', encoding=\"utf8\") as f:\n",
    "    inp = ris.load(f)\n",
    "with open(file_result, 'r', encoding=\"utf8\") as f:\n",
    "    result = ris.load(f)\n",
    "print(\"The inital search result has {} articles\".format(len(inp)))\n",
    "print(\"{} articles were classified as rcts\".format(len(result)))"
   ]
  },
  {
   "cell_type": "markdown",
   "id": "79de4ece-2536-47e2-9cbd-37c98669ef0b",
   "metadata": {},
   "source": [
    "Now we know how many articles were classified as randomized-controlled-trials. We are only going to use the one's that have an open-access. Those that do, have a pmc- identifier associated with the publication. Please execute the cell below to filter out the pmcs."
   ]
  },
  {
   "cell_type": "code",
   "execution_count": 6,
   "id": "935693c4-651d-4439-ad09-c53df1e36a59",
   "metadata": {},
   "outputs": [
    {
     "name": "stdout",
     "output_type": "stream",
     "text": [
      "26 studies have a pmc-identifier and can be accessed through pubmed open-access\n"
     ]
    }
   ],
   "source": [
    "#extract PMC - they are found in the 'PMC' key.\n",
    "pmcs = []\n",
    "for i in range(len(result)):\n",
    "    if \"PMC\" in result[i].keys():\n",
    "        id_raw = result[i]['PMC'][0]\n",
    "        pmc = id_raw.strip()\n",
    "        pmcs.append(pmc)\n",
    "\n",
    "print(\"{} studies have a pmc-identifier and can be accessed through pubmed open-access\".format(len(pmcs)))"
   ]
  },
  {
   "cell_type": "markdown",
   "id": "0542c5ed-4bc7-4017-ad82-b9118b9af1da",
   "metadata": {},
   "source": [
    "### Filter for response-meassure of interest\n",
    "Let's reduce the number of publications even further by checking if the articles contain appropriate response-meassures. The response-meassures we are interested in are indicators for mortality or clinical recovery or improvement. The statistical meassures of interest are hazard-ratio or rate-ratio. Every study reports those in the methods section or later in the article. The following cell scans the open-access texts on pubmed and checks if either the terms \"mortality\" or death or the terms \"time to clinical improvement/recovery\" are mentioned after the key-word \"method\". And the check if at the same time the keywords \"hazard/rate-ratio\" are menetioned after the \"method\" keyword. Please execute the cell below. It will take a few minutes to run. If you run into errors, try installing mozilla-firefox if you don't have it on your system."
   ]
  },
  {
   "cell_type": "code",
   "execution_count": 8,
   "id": "bf24c3a2-98be-4aac-89d7-6db89d6e544b",
   "metadata": {},
   "outputs": [
    {
     "name": "stdout",
     "output_type": "stream",
     "text": [
      "0\n",
      "True\n",
      "1\n",
      "True\n",
      "2\n",
      "True\n",
      "3\n",
      "True\n",
      "4\n",
      "True\n",
      "5\n",
      "6\n",
      "7\n",
      "8\n",
      "True\n",
      "9\n",
      "True\n",
      "10\n",
      "11\n",
      "12\n",
      "13\n",
      "14\n",
      "True\n",
      "15\n",
      "16\n",
      "True\n",
      "17\n",
      "True\n",
      "18\n",
      "True\n",
      "19\n",
      "True\n",
      "20\n",
      "21\n",
      "22\n",
      "True\n",
      "23\n",
      "24\n",
      "25\n",
      "True\n",
      "14 articles contain mortality/death or time to clinical improvement or recovery and propper outcome meassure\n"
     ]
    }
   ],
   "source": [
    "site= \"https://www.ncbi.nlm.nih.gov/pmc/articles/{}/\"\n",
    "hdr = {'User-Agent': 'Mozilla/5.0'}\n",
    "regex_mortality = r\"method.+(?:(?:mortality|death)|(?:time to(?:clinical improvement|recovery)))\" # the outcome meassure must come after the word method, so it is likey mentioned in the methods or results section\n",
    "regex_hr = r\"method.+(?:hazard|rate)[\\s-]ratio\"\n",
    "pmcs_outcome = []\n",
    "for i in range(len(pmcs)):\n",
    "    print(i)\n",
    "    url = site.format(pmcs[i])\n",
    "    req = Request(url,headers=hdr)\n",
    "    try:\n",
    "        page = urlopen(req)\n",
    "        soup = BeautifulSoup(page)\n",
    "        if re.search(regex_mortality, soup.prettify(), re.DOTALL|re.IGNORECASE) and re.search(regex_hr, soup.prettify(), re.DOTALL|re.IGNORECASE):\n",
    "            print(True)\n",
    "            pmcs_outcome.append(pmcs[i])\n",
    "    except HTTPError:\n",
    "        print(\"httperror\")\n",
    "print(\"{} articles contain mortality/death or time to clinical improvement or recovery and propper outcome meassure\".format(len(pmcs_outcome)))\n",
    "with open(\"papers.txt\", \"w\") as f:\n",
    "    for pmc in pmcs_outcome:\n",
    "        f.write(\"%s\\n\" % \"https://www.ncbi.nlm.nih.gov/pmc/articles/{}/\".format(pmc))"
   ]
  },
  {
   "cell_type": "markdown",
   "id": "02b2b54c-7b6a-42fd-bf68-9f4fdd771b39",
   "metadata": {},
   "source": [
    "### Create a spreadsheed to record screening results.\n",
    "Now that we reduced the number of eligable studies by a very significant amount, we will inspect the remaining studies manually. Run the cell below to create a spreadsheet in which you will document the results of your inspection. You will also get a list of links where you will find the studies."
   ]
  },
  {
   "cell_type": "code",
   "execution_count": 9,
   "id": "af3d4702-022a-4615-af31-6e07c03af8e1",
   "metadata": {},
   "outputs": [
    {
     "name": "stdout",
     "output_type": "stream",
     "text": [
      "https://www.ncbi.nlm.nih.gov/pmc/articles/PMC7262788/\n",
      "https://www.ncbi.nlm.nih.gov/pmc/articles/PMC7745180/\n",
      "https://www.ncbi.nlm.nih.gov/pmc/articles/PMC8757570/\n",
      "https://www.ncbi.nlm.nih.gov/pmc/articles/PMC7377062/\n",
      "https://www.ncbi.nlm.nih.gov/pmc/articles/PMC8279143/\n",
      "https://www.ncbi.nlm.nih.gov/pmc/articles/PMC8523116/\n",
      "https://www.ncbi.nlm.nih.gov/pmc/articles/PMC7538864/\n",
      "https://www.ncbi.nlm.nih.gov/pmc/articles/PMC8490137/\n",
      "https://www.ncbi.nlm.nih.gov/pmc/articles/PMC8863204/\n",
      "https://www.ncbi.nlm.nih.gov/pmc/articles/PMC7190303/\n",
      "https://www.ncbi.nlm.nih.gov/pmc/articles/PMC9017992/\n",
      "https://www.ncbi.nlm.nih.gov/pmc/articles/PMC7442954/\n",
      "https://www.ncbi.nlm.nih.gov/pmc/articles/PMC8439621/\n",
      "https://www.ncbi.nlm.nih.gov/pmc/articles/PMC9278225/\n"
     ]
    }
   ],
   "source": [
    "screening_results = pd.DataFrame(columns = ['pmc', 'non_retracted', 'randomized_controlled', 'adults', 'infected', 'remdesivir_only', 'propper_outcome'])\n",
    "screening_results['pmc'] = np.array(pmcs_outcome)\n",
    "screening_results.to_csv(\"screening_results.csv\", index = False, sep = \";\")\n",
    "for i in range(len(pmcs_outcome)):\n",
    "    print(\"https://www.ncbi.nlm.nih.gov/pmc/articles/{}/\".format(pmcs_outcome[i]))"
   ]
  },
  {
   "cell_type": "markdown",
   "id": "75ee4733-2fed-4b46-ab89-17215e222781",
   "metadata": {},
   "source": [
    "## Manual Screening of Articles\n",
    "Now that we filtered out the promising studies, we must manually check for their eligibility. Even though we automated the classification as randomized controll trial, we must check for errors. We follow the following protocol. There are certain criteria a publication has to meet in order to be eligable for our final analysis. Open each of the htmls above by clicking on the link or open the file papers.txt. Apply the protocol below very carefully to each study individually. Open the file **screening_results.csv** in a csv-editor of your choice. You will find the file in the main project directory. Note that the separator is a semicolon. <br>\n",
    "For each criterion listed below, the spreadsheet has a column in which to document, if the study meets the criterion. Type **1** into the cell if the **criterion is met** and **0** if it is **not met**. You can stop checking the remaining criteria for that particular paper, once you coded one criterion as 0 and continue to the next paper, by clicking on the next link in the list above.\n",
    "### Not retracted\n",
    "Rarely it happens, that already published articles are retracted for various reasons. This probably won't be the case for the studies here, but we still must check. If the article has been retracted, it shows in a red box on top of the webpage. It's impossible to miss. Code **1** if the article has **not been retracted**.\n",
    "### Randomized Controlled Trial\n",
    "Randomized Clinical Trials are those in which patients are assigned randomly to either a group receiving treatment with Remdesivir or a control group, which may be a placebo-group or a standard-treatment. Check the abstract and/or methods secion to check if the studies are randomized control trials. Don't worry about missing this information, the authors will make it very clear if their study is a RCT. **Don't include studies**, in which **both** experimental and control group receive remdesivir but only different dossages. Keywords indicating that a study is not an RCT are: \"retrospective\" study or analysis or \"observational cohort\" study.\n",
    "### Majority Aduls. \n",
    "Check if proportion of age above 18 is >95%.\n",
    "### Participants infected \n",
    "Participants must be infected with Covid-19. **No** studies analysing remdesivir as a **prevention** treatment should be included.\n",
    "### Remdesivir only \n",
    "The only difference between treatment- and control-group should be whether patients received remdesivir or not. Some studies investigate the effect of combination treatments of remdesivir with other medications - don't include those studies. Control groups can be placebo or standard-care. If multiple treatments are tested, the study must include a comparison of remdesivir with a placebo or standard care group.\n",
    "### Propper outcome\n",
    "To assess the effectiveness of treatment with remdesivir compared to the placebo or standard-care, there must be a propper effect-meassure reported. \n",
    "Check if **at least one** of the outcomes **mortality,\"time to recovery\" or \"time to clinical improvement\" or equivalent** meassures has one of these meassures associated with it: **hazard-ratio or rate-ratio**. Keep in mind that what the authors declare as primary outcome might not be the primary outcome for this study. You might even have to look into the appendices to retrieve the outcome meassure.\n",
    "\n",
    "## Extract eligable studies\n",
    "Make sure to **save the file**. We are going to use the studies that fulfill the above criteria. Execute the cell below to get the studies to be included in the final analysis."
   ]
  },
  {
   "cell_type": "code",
   "execution_count": 11,
   "id": "adf40bd0-9395-43cb-8fd8-6f2724207710",
   "metadata": {},
   "outputs": [
    {
     "name": "stdout",
     "output_type": "stream",
     "text": [
      "7 studies were found to be eligable\n",
      "https://www.ncbi.nlm.nih.gov/pmc/articles/PMC7262788/\n",
      "https://www.ncbi.nlm.nih.gov/pmc/articles/PMC8757570/\n",
      "https://www.ncbi.nlm.nih.gov/pmc/articles/PMC8279143/\n",
      "https://www.ncbi.nlm.nih.gov/pmc/articles/PMC8863204/\n",
      "https://www.ncbi.nlm.nih.gov/pmc/articles/PMC7190303/\n",
      "https://www.ncbi.nlm.nih.gov/pmc/articles/PMC7442954/\n",
      "https://www.ncbi.nlm.nih.gov/pmc/articles/PMC8439621/\n"
     ]
    }
   ],
   "source": [
    "# Please make sure to save your screening_results.csv properly. In Germany the default seperator is semicolon.\n",
    "df_screening = pd.read_csv(\"screening_results.csv\",sep=\";\")\n",
    "df_screening = df_screening.fillna(0)\n",
    "df_screening[\"eligable\"] = (df_screening.iloc[:,1:].sum(axis = 1)/6).astype(int).astype(bool)\n",
    "eligable_studies = list(df_screening.loc[df_screening.eligable == True,\"pmc\"])\n",
    "result_table = pd.DataFrame(columns = ['pmc', 'ratio_mortality', 'lower_confidence_bound_mortality', 'upper_confidence_bound_mortality', 'p_value_mortality', 'ratio_recovery', 'lower_confidence_bound_recovery', 'upper_confidence_bound_recovery', 'p_value_recovery','sample_size_remdesivir', 'sample_size_control', 'placebo_controlled'])\n",
    "result_table['pmc'] = np.array(eligable_studies)\n",
    "result_table.to_csv(\"result_table.csv\", index = False, sep = \";\")\n",
    "print(\"{} studies were found to be eligable\".format(len(eligable_studies)))\n",
    "for i in range(len(eligable_studies)):\n",
    "    print(\"https://www.ncbi.nlm.nih.gov/pmc/articles/{}/\".format(eligable_studies[i]))"
   ]
  },
  {
   "cell_type": "markdown",
   "id": "68dde371-c451-4592-9a46-cb7fb6e9e676",
   "metadata": {
    "tags": []
   },
   "source": [
    "## Extract Relevant Data\n",
    "Good job thus far. We have found all the studies which will be included in the final analysis. If you discover that a criterion hasn't been met afterall, simply change the sceening_results.csv file accordingly and rerun the cell above. <br>\n",
    "Open the file result-table.csv. The separator is semicolon. Open the studies one-by-on by clicking on the corresponding url in the output of the cell above. Please follow the protocol below when you record your findings. If a meassure is missing, leave the cell blank.\n",
    "### ratio_mortality\n",
    "Type the value of the hazard- or rate-ratio for mortality. You might have to look into an appendix mentioned in the paper. If mortality-ratios are reported for different time periods, choose the latest. If a study includes hospitalization or death don't include this study for the mortality-meassure, because death itself is the outcome meassure.\n",
    "### lower_confidence_bound_mortality\n",
    "The confidence-intervall is usually reported after the ratio. E.g. [95% CI 0·81–1·61] - the example is from an actual paper. You can see that the decimal point is missing. Please type the lower confidence bound (the left one) into the result_table. In the example it would be 0.81.\n",
    "### upper_confidence bound mortality\n",
    "Equivalently type the upper confidence bound (the right one) into the table. In the example it would be 1.61.\n",
    "### p_value_mortality\n",
    "Type the p-value into the result-table. It is usually documented right next to the confidence interval. If it isn't you have to look a bit in the results section. If there is only a confidence interval reported, leave the column p-value empty.\n",
    "### ratio_recovery\n",
    "Different studies use different recovery-meassures. You should only report one. If a ratio is reported for time to recovery use that one, if not, look if there is time to improvement or aleviation of symptoms or an equivalent meassure.\n",
    "Type the value of the hazard- or rate-ratio into the cell. You might have to look into an appendix mentioned in the paper.\n",
    "### lower_confidence_bound_recovery\n",
    "The confidence-intervall is usually reported after the ratio. E.g. [95% CI 0·81–1·61] - the example is from an actual paper. You can see that the decimal point is missing. Please type the lower confidence bound (the left one) into the result_table. In the example it would be 0.81.\n",
    "### upper_confidence_bound_recovery\n",
    "Equivalently type the upper confidence bound (the right one) into the table. In the example it would be 1.61.\n",
    "### p_value_recovery\n",
    "Type the p-value into the result-table. It is usually documented right next to the confidence interval. If it isn't you have to look a bit in the results section. If there is only a confidence interval reported, leave the column p-value empty.\n",
    "### sample-sizes\n",
    "Type the sample-sizes for the remdesivir group and the control-group seperately.\n",
    "### placebo\n",
    "check if the control group recevided a placebo or not. If the control-group received a placebo type 1 into the column and else type 0.\n",
    "### save the file.\n"
   ]
  },
  {
   "cell_type": "markdown",
   "id": "24661074-191b-4385-a999-c78a893c0614",
   "metadata": {},
   "source": [
    "## Data Analysis\n",
    "The analysis is almost done. The manual work is over. It's time to look at our results. We have two effects we want to evaluate - Does remdesivir reduce mortality and does remdesivir reduce the time to recovery or clinical improvement. Run the cells below to get the results.\n",
    "### Preprocess Data\n",
    "This function calculates the pooled effect for multiple studies. It utilitzes the fixed-effects model."
   ]
  },
  {
   "cell_type": "code",
   "execution_count": 12,
   "id": "33e76a87-fc92-4c62-ad05-7b858e146077",
   "metadata": {},
   "outputs": [],
   "source": [
    "def pooled_effect(df):\n",
    "    df_effect = copy.copy(df)\n",
    "    df_effect = df_effect.iloc[:,1:4]\n",
    "    df_effect.columns = [\"ratio\", \"l\", \"u\"]\n",
    "    def st_error(upper, lower):\n",
    "        return  (np.log(upper) - np.log(lower))/3.92\n",
    "    def weight(se):\n",
    "        return 1/(se**2)\n",
    "    \n",
    "    df_effect[\"se\"] = df_effect.apply(lambda row : st_error(row[\"u\"], row[\"l\"]), axis = 1)\n",
    "    df_effect[\"weight\"] = df_effect.apply(lambda row : weight(row[\"se\"]), axis = 1)\n",
    "    sum_of_weights = df_effect[\"weight\"].sum()\n",
    "    pooled_effect = np.exp((np.log(df_effect[\"ratio\"])*df_effect[\"weight\"]).sum()/sum_of_weights)\n",
    "    pooled_se = (1/sum_of_weights)**0.5\n",
    "    pooled_lower_bound = np.exp(np.log(pooled_effect) - 1.96*pooled_se)\n",
    "    pooled_upper_bound = np.exp(np.log(pooled_effect) + 1.96*pooled_se)\n",
    "    return pooled_effect, pooled_lower_bound, pooled_upper_bound\n",
    "                                      \n",
    "    "
   ]
  },
  {
   "cell_type": "code",
   "execution_count": 61,
   "id": "48f836f7-f248-47a1-b8f6-fb2426fd78e6",
   "metadata": {},
   "outputs": [
    {
     "data": {
      "text/html": [
       "<div>\n",
       "<style scoped>\n",
       "    .dataframe tbody tr th:only-of-type {\n",
       "        vertical-align: middle;\n",
       "    }\n",
       "\n",
       "    .dataframe tbody tr th {\n",
       "        vertical-align: top;\n",
       "    }\n",
       "\n",
       "    .dataframe thead th {\n",
       "        text-align: right;\n",
       "    }\n",
       "</style>\n",
       "<table border=\"1\" class=\"dataframe\">\n",
       "  <thead>\n",
       "    <tr style=\"text-align: right;\">\n",
       "      <th></th>\n",
       "      <th>study</th>\n",
       "      <th>response</th>\n",
       "      <th>effect-size</th>\n",
       "      <th>ll</th>\n",
       "      <th>hl</th>\n",
       "      <th>p</th>\n",
       "      <th>n_remdesivir</th>\n",
       "      <th>n_control</th>\n",
       "      <th>placebo</th>\n",
       "      <th>N</th>\n",
       "    </tr>\n",
       "  </thead>\n",
       "  <tbody>\n",
       "    <tr>\n",
       "      <th>0</th>\n",
       "      <td>recovery pooled</td>\n",
       "      <td>recovery</td>\n",
       "      <td>1.226016</td>\n",
       "      <td>1.108166</td>\n",
       "      <td>1.356399</td>\n",
       "      <td>NaN</td>\n",
       "      <td>1585</td>\n",
       "      <td>1500</td>\n",
       "      <td>True</td>\n",
       "      <td>3085</td>\n",
       "    </tr>\n",
       "    <tr>\n",
       "      <th>1</th>\n",
       "      <td>PMC7262788 r</td>\n",
       "      <td>recovery</td>\n",
       "      <td>1.290000</td>\n",
       "      <td>1.120000</td>\n",
       "      <td>1.490000</td>\n",
       "      <td>0.001</td>\n",
       "      <td>541</td>\n",
       "      <td>521</td>\n",
       "      <td>True</td>\n",
       "      <td>1062</td>\n",
       "    </tr>\n",
       "    <tr>\n",
       "      <th>2</th>\n",
       "      <td>PMC8439621 r</td>\n",
       "      <td>recovery</td>\n",
       "      <td>1.110000</td>\n",
       "      <td>0.870000</td>\n",
       "      <td>1.420000</td>\n",
       "      <td>0.390</td>\n",
       "      <td>414</td>\n",
       "      <td>418</td>\n",
       "      <td>False</td>\n",
       "      <td>832</td>\n",
       "    </tr>\n",
       "    <tr>\n",
       "      <th>3</th>\n",
       "      <td>PMC8757570 r</td>\n",
       "      <td>recovery</td>\n",
       "      <td>1.410000</td>\n",
       "      <td>0.730000</td>\n",
       "      <td>2.690000</td>\n",
       "      <td>NaN</td>\n",
       "      <td>279</td>\n",
       "      <td>283</td>\n",
       "      <td>True</td>\n",
       "      <td>562</td>\n",
       "    </tr>\n",
       "    <tr>\n",
       "      <th>4</th>\n",
       "      <td>PMC7442954 r</td>\n",
       "      <td>recovery</td>\n",
       "      <td>1.160000</td>\n",
       "      <td>0.930000</td>\n",
       "      <td>1.430000</td>\n",
       "      <td>NaN</td>\n",
       "      <td>193</td>\n",
       "      <td>200</td>\n",
       "      <td>False</td>\n",
       "      <td>393</td>\n",
       "    </tr>\n",
       "    <tr>\n",
       "      <th>5</th>\n",
       "      <td>PMC7190303 r</td>\n",
       "      <td>recovery</td>\n",
       "      <td>1.230000</td>\n",
       "      <td>0.870000</td>\n",
       "      <td>1.750000</td>\n",
       "      <td>0.240</td>\n",
       "      <td>158</td>\n",
       "      <td>78</td>\n",
       "      <td>True</td>\n",
       "      <td>236</td>\n",
       "    </tr>\n",
       "    <tr>\n",
       "      <th>6</th>\n",
       "      <td>mortality pooled</td>\n",
       "      <td>mortality</td>\n",
       "      <td>0.842770</td>\n",
       "      <td>0.712580</td>\n",
       "      <td>0.996747</td>\n",
       "      <td>NaN</td>\n",
       "      <td>1402</td>\n",
       "      <td>1401</td>\n",
       "      <td>True</td>\n",
       "      <td>2803</td>\n",
       "    </tr>\n",
       "    <tr>\n",
       "      <th>7</th>\n",
       "      <td>PMC8863204 m</td>\n",
       "      <td>mortality</td>\n",
       "      <td>0.880000</td>\n",
       "      <td>0.720000</td>\n",
       "      <td>1.070000</td>\n",
       "      <td>NaN</td>\n",
       "      <td>634</td>\n",
       "      <td>647</td>\n",
       "      <td>False</td>\n",
       "      <td>1281</td>\n",
       "    </tr>\n",
       "    <tr>\n",
       "      <th>8</th>\n",
       "      <td>PMC7262788 m</td>\n",
       "      <td>mortality</td>\n",
       "      <td>0.730000</td>\n",
       "      <td>0.520000</td>\n",
       "      <td>1.030000</td>\n",
       "      <td>NaN</td>\n",
       "      <td>541</td>\n",
       "      <td>521</td>\n",
       "      <td>True</td>\n",
       "      <td>1062</td>\n",
       "    </tr>\n",
       "    <tr>\n",
       "      <th>9</th>\n",
       "      <td>PMC7442954 m</td>\n",
       "      <td>mortality</td>\n",
       "      <td>0.760000</td>\n",
       "      <td>0.170000</td>\n",
       "      <td>3.400000</td>\n",
       "      <td>NaN</td>\n",
       "      <td>193</td>\n",
       "      <td>200</td>\n",
       "      <td>False</td>\n",
       "      <td>393</td>\n",
       "    </tr>\n",
       "    <tr>\n",
       "      <th>10</th>\n",
       "      <td>PMC8279143 m</td>\n",
       "      <td>mortality</td>\n",
       "      <td>1.000000</td>\n",
       "      <td>0.400000</td>\n",
       "      <td>2.900000</td>\n",
       "      <td>NaN</td>\n",
       "      <td>34</td>\n",
       "      <td>33</td>\n",
       "      <td>False</td>\n",
       "      <td>67</td>\n",
       "    </tr>\n",
       "  </tbody>\n",
       "</table>\n",
       "</div>"
      ],
      "text/plain": [
       "               study   response  effect-size        ll        hl      p  \\\n",
       "0    recovery pooled   recovery     1.226016  1.108166  1.356399    NaN   \n",
       "1       PMC7262788 r   recovery     1.290000  1.120000  1.490000  0.001   \n",
       "2       PMC8439621 r   recovery     1.110000  0.870000  1.420000  0.390   \n",
       "3       PMC8757570 r   recovery     1.410000  0.730000  2.690000    NaN   \n",
       "4       PMC7442954 r   recovery     1.160000  0.930000  1.430000    NaN   \n",
       "5       PMC7190303 r   recovery     1.230000  0.870000  1.750000  0.240   \n",
       "6   mortality pooled  mortality     0.842770  0.712580  0.996747    NaN   \n",
       "7       PMC8863204 m  mortality     0.880000  0.720000  1.070000    NaN   \n",
       "8       PMC7262788 m  mortality     0.730000  0.520000  1.030000    NaN   \n",
       "9       PMC7442954 m  mortality     0.760000  0.170000  3.400000    NaN   \n",
       "10      PMC8279143 m  mortality     1.000000  0.400000  2.900000    NaN   \n",
       "\n",
       "    n_remdesivir  n_control placebo     N  \n",
       "0           1585       1500    True  3085  \n",
       "1            541        521    True  1062  \n",
       "2            414        418   False   832  \n",
       "3            279        283    True   562  \n",
       "4            193        200   False   393  \n",
       "5            158         78    True   236  \n",
       "6           1402       1401    True  2803  \n",
       "7            634        647   False  1281  \n",
       "8            541        521    True  1062  \n",
       "9            193        200   False   393  \n",
       "10            34         33   False    67  "
      ]
     },
     "execution_count": 61,
     "metadata": {},
     "output_type": "execute_result"
    }
   ],
   "source": [
    "df_results = pd.read_csv(\"result_table.csv\", sep= \";\")\n",
    "df_mortality = df_results[[\"pmc\", \"ratio_mortality\", \"lower_confidence_bound_mortality\", \"upper_confidence_bound_mortality\", \n",
    "                          \"p_value_mortality\", \"sample_size_remdesivir\", \"sample_size_control\", \"placebo_controlled\"]]\n",
    "df_mortality = df_mortality.dropna(subset=['ratio_mortality'])\n",
    "df_mortality = df_mortality.reset_index(drop=True)\n",
    "df_improvement = df_results[[\"pmc\", \"ratio_recovery\", \"lower_confidence_bound_recovery\", \"upper_confidence_bound_recovery\", \n",
    "                          \"p_value_recovery\", \"sample_size_remdesivir\", \"sample_size_control\", \"placebo_controlled\"]]\n",
    "df_improvement = df_improvement.dropna(subset=[\"ratio_recovery\"])\n",
    "df_improvement = df_improvement.reset_index(drop=True)\n",
    "row_pooled_mortality = [\"mortality_pooled\"] + list(pooled_effect(df_mortality))  +[np.nan,df_mortality[\"sample_size_remdesivir\"].sum(),df_mortality[\"sample_size_control\"].sum(),np.nan] \n",
    "df_mortality.loc[len(df_mortality)] = row_pooled_mortality\n",
    "row_pooled_improvement = [\"improvement_pooled\"] + list(pooled_effect(df_improvement))  +[np.nan,df_improvement[\"sample_size_remdesivir\"].sum(),df_improvement[\"sample_size_control\"].sum(),np.nan] \n",
    "df_improvement.loc[len(df_improvement)] = row_pooled_improvement\n",
    "df_improvement_processed = pd.DataFrame(columns = [\"study\", \"response\",\"effect-size\", \"ll\", \"hl\", \"p\", \"n_remdesivir\", \"n_control\", \"placebo\"])\n",
    "df_improvement_processed[[\"study\", \"effect-size\", \"ll\", \"hl\", \"p\", \"n_remdesivir\", \"n_control\", \"placebo\"]] = df_improvement[\n",
    "    [\"pmc\", \"ratio_recovery\", \"lower_confidence_bound_recovery\", \"upper_confidence_bound_recovery\", \"p_value_recovery\", \"sample_size_remdesivir\", \"sample_size_control\",\"placebo_controlled\"]]\n",
    "df_improvement_processed[\"response\"] = \"recovery\"\n",
    "df_improvement_processed [\"placebo\"] = df_improvement_processed[\"placebo\"].astype(bool).astype(str)\n",
    "df_improvement_processed[\"N\"] = df_improvement_processed.n_remdesivir + df_improvement_processed.n_control\n",
    "df_improvement_processed = df_improvement_processed.sort_values(by=[\"N\"], ascending=False)\n",
    "df_improvement_processed = df_improvement_processed.reset_index(drop=True)\n",
    "df_improvement_processed[\"study\"] = df_improvement_processed[\"study\"]+ \" r\"\n",
    "df_mortality_processed = pd.DataFrame(columns = [\"study\", \"response\",\"effect-size\", \"ll\", \"hl\", \"p\", \"n_remdesivir\", \"n_control\", \"placebo\"])\n",
    "df_mortality_processed[[\"study\", \"effect-size\", \"ll\", \"hl\", \"p\", \"n_remdesivir\", \"n_control\", \"placebo\"]] = df_mortality[\n",
    "    [\"pmc\", \"ratio_mortality\", \"lower_confidence_bound_mortality\", \"upper_confidence_bound_mortality\", \"p_value_mortality\", \"sample_size_remdesivir\", \"sample_size_control\",\"placebo_controlled\"]]\n",
    "df_mortality_processed[\"response\"] = \"mortality\"\n",
    "df_mortality_processed [\"placebo\"] = df_mortality_processed[\"placebo\"].astype(bool).astype(str)\n",
    "df_mortality_processed[\"N\"] = df_mortality_processed.n_remdesivir + df_mortality_processed.n_control\n",
    "df_mortality_processed = df_mortality_processed.sort_values(by=[\"N\"], ascending=False)\n",
    "df_mortality_processed = df_mortality_processed.reset_index(drop=True)\n",
    "df_mortality_processed[\"study\"] = df_mortality_processed[\"study\"]+ \" m\"\n",
    "df_total = pd.concat([df_improvement_processed, df_mortality_processed])\n",
    "df_total = df_total.reset_index(drop=True)\n",
    "df_total[\"N\"] = df_total[\"N\"].astype(\"O\")\n",
    "for i in range(len(df_total)):\n",
    "    if df_total.at[i,\"study\"] == \"improvement_pooled r\":\n",
    "        df_total.at[i,\"study\"] = \"recovery pooled\"\n",
    "    if df_total.at[i,\"study\"] == \"mortality_pooled m\":\n",
    "        df_total.at[i,\"study\"] = \"mortality pooled\"\n",
    "df_total"
   ]
  },
  {
   "cell_type": "markdown",
   "id": "72d9eaf2-3397-4a8c-bd6a-573ec19333c9",
   "metadata": {},
   "source": [
    "### Significance Test for pooled effects.\n",
    "We are going to use the confidence-interval significance test. We are checking if the value 1 is within the 95% Confidence Interval. The value of 1 indicates that the groups do not differ with respect to the outcome-meassure."
   ]
  },
  {
   "cell_type": "code",
   "execution_count": 62,
   "id": "9777eb5c-d759-4c25-8b69-f260b9e9bd34",
   "metadata": {},
   "outputs": [
    {
     "name": "stdout",
     "output_type": "stream",
     "text": [
      "confidence interval for clinical recovery or improvement [1.108166366518543,1.3563993554322566]\n",
      "Treamtment with remdesivir is associated with a significantly faster recovery or clinical improvement\n",
      "confidence interval for clinical recovery or improvement [0.7125795963145016,0.996747270142469]\n",
      "Treamtment with remdesivir is associated with a significantly lower mortality-rate\n"
     ]
    }
   ],
   "source": [
    "improvement_ll = df_total.loc[df_total.study == \"recovery pooled\",\"ll\"].values[0]\n",
    "improvement_hl = df_total.loc[df_total.study == \"recovery pooled\",\"hl\"].values[0]\n",
    "print(\"confidence interval for clinical recovery or improvement [{},{}]\".format(improvement_ll,improvement_hl))\n",
    "if improvement_ll > 1:\n",
    "    print(\"Treamtment with remdesivir is associated with a significantly faster recovery or clinical improvement\")\n",
    "elif improvement_hl < 1:\n",
    "    print(\"Treamtment with remdesivir is associated with a significantly slower recovery or clinical improvement\")\n",
    "else:\n",
    "    print(\"Treamtment with remdesivir is not associated with a significantly faster recovery or clinical improvement\")\n",
    "\n",
    "mortality_ll = df_total.loc[df_total.study == \"mortality pooled\",\"ll\"].values[0]\n",
    "mortality_hl = df_total.loc[df_total.study == \"mortality pooled\",\"hl\"].values[0]\n",
    "print(\"confidence interval for clinical recovery or improvement [{},{}]\".format(mortality_ll,mortality_hl))\n",
    "if mortality_hl < 1:\n",
    "    print(\"Treamtment with remdesivir is associated with a significantly lower mortality-rate\")\n",
    "elif mortality_ll > 1:\n",
    "    print(\"Treamtment with remdesivir is associated with a significantly higher mortality-rate\")\n",
    "else:\n",
    "    print(\"Treamtment with remdesivir is not associated with a significantly faster recovery or clinical improvement\")"
   ]
  },
  {
   "cell_type": "markdown",
   "id": "2cbfb98d-6cda-4dcc-a1ef-93ba81ea155a",
   "metadata": {},
   "source": [
    "### Create Forestplot\n",
    "Now that we know if the pooled outcome was significant or not, let's visualize our results with a forest plot."
   ]
  },
  {
   "cell_type": "code",
   "execution_count": 65,
   "id": "56aeae66-63d2-4334-a5e7-a2ae3ec7591c",
   "metadata": {},
   "outputs": [
    {
     "data": {
      "text/plain": [
       "<AxesSubplot: xlabel='ratio'>"
      ]
     },
     "execution_count": 65,
     "metadata": {},
     "output_type": "execute_result"
    },
    {
     "data": {
      "image/png": "[encoded data removed]",
      "text/plain": [
       "<Figure size 576x576 with 1 Axes>"
      ]
     },
     "metadata": {},
     "output_type": "display_data"
    }
   ],
   "source": [
    "fp.forestplot(df_total,  # the dataframe with results data\n",
    "              estimate=\"effect-size\",  # col containing estimated effect size \n",
    "              ll=\"ll\", hl=\"hl\",  # lower & higher limits of conf. int.\n",
    "              varlabel=\"study\",  # column containing the varlabels to be printed on far left\n",
    "              capitalize=\"capitalize\",  # Capitalize labels\n",
    "              pval=\"p\",  # column containing p-values to be formatted\n",
    "              annote=[\"N\"],  # columns to report on left of plot\n",
    "              annoteheaders=[\"N\"],  # ^corresponding headers\n",
    "              rightannote=[\"formatted_pval\", \"est_ci\", \"placebo\"],  # columns to report on right of plot \n",
    "              right_annoteheaders=[\"p\",\"Confidence Interval\",\"Placebo\"],  # ^corresponding headers\n",
    "              groupvar = \"response\",\n",
    "              group_order=[\"mortality\", \"recovery\"],    \n",
    "              xlabel=\"ratio\",  # x-label title\n",
    "              xline = 1,\n",
    "              xlinestyle = (1, (10, 5)),\n",
    "              figsize = (8,8),\n",
    "             table=True)"
   ]
  },
  {
   "cell_type": "code",
   "execution_count": null,
   "id": "1a3999ba-3fbc-4428-85a2-54aae7734453",
   "metadata": {},
   "outputs": [],
   "source": []
  }
 ],
 "metadata": {
  "kernelspec": {
   "display_name": "covid_review",
   "language": "python",
   "name": "covid_review"
  },
  "language_info": {
   "codemirror_mode": {
    "name": "ipython",
    "version": 3
   },
   "file_extension": ".py",
   "mimetype": "text/x-python",
   "name": "python",
   "nbconvert_exporter": "python",
   "pygments_lexer": "ipython3",
   "version": "3.9.14"
  }
 },
 "nbformat": 4,
 "nbformat_minor": 5
}
