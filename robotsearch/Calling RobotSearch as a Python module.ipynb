{
 "cells": [
  {
   "cell_type": "code",
   "execution_count": 1,
   "metadata": {
    "collapsed": false
   },
   "outputs": [
    {
     "name": "stderr",
     "output_type": "stream",
     "text": [
      "Using TensorFlow backend.\n",
      "[DEBUG] robotsearch.ml.classifier 2018-05-10 13:30:42,421: Loading model /Users/iain/Code/robotsearch/robotsearch/data/rct/rct_svm_weights.npz...\n",
      "[DEBUG] robotsearch.ml.classifier 2018-05-10 13:30:42,523: Model /Users/iain/Code/robotsearch/robotsearch/data/rct/rct_svm_weights.npz loaded\n",
      "/Users/iain/anaconda3/lib/python3.5/site-packages/keras/engine/topology.py:1242: UserWarning: The `Merge` layer is deprecated and will be removed after 08/2017. Use instead layers from `keras.layers.merge`, e.g. `add`, `concatenate`, etc.\n",
      "  return cls(**config)\n"
     ]
    }
   ],
   "source": [
    "# initialise the models\n",
    "from robotsearch.robots import rct_robot\n",
    "rct_clf = rct_robot.RCTRobot()"
   ]
  },
  {
   "cell_type": "code",
   "execution_count": 12,
   "metadata": {
    "collapsed": true
   },
   "outputs": [],
   "source": [
    "# an example abstract — genuine data from https://www.ncbi.nlm.nih.gov/pubmed/22269589\n",
    "ti = \"\"\"A randomized controlled trial of positive-affect induction to promote physical activity after percutaneous coronary intervention.\"\"\"\n",
    "\n",
    "ab = \"\"\"BACKGROUND: Within 1 year after percutaneous coronary intervention, more than 20% of patients experience new adverse events. Physical activity confers a 25% reduction in mortality; however, physical activity is widely underused. Thus, there is a need for more powerful behavioral interventions to promote physical activity. Our objective was to motivate patients to achieve an increase in expenditure of 336 kcal/wk or more at 12 months as assessed by the Paffenbarger Physical Activity and Exercise Index.\n",
    "METHODS: Two hundred forty-two patients were recruited immediately after percutaneous coronary intervention between October 2004 and October 2006. Patients were randomized to 1 of 2 groups. The patient education (PE) control group (n = 118) (1) received an educational workbook, (2) received a pedometer, and (3) set a behavioral contract for a physical activity goal. The positive-affect/self-affirmation (PA) intervention group (n = 124) received the 3 PE control components plus (1) a PA workbook chapter, (2) bimonthly induction of PA by telephone, and (3) small mailed gifts. All patients were contacted with standardized bimonthly telephone follow-up for 12 months.\n",
    "RESULTS: Attrition was 4.5%, and 2.1% of patients died. Significantly more patients in the PA intervention group increased expenditure by 336 kcal/wk or more at 12 months, our main outcome, compared with the PE control group (54.9% vs 37.4%, P = .007). The PA intervention patients were 1.7 times more likely to reach the goal of a 336-kcal/wk or more increase by 12 months, controlling for demographic and psychosocial measures. In multivariate analysis, the PA intervention patients had nearly double the improvement in kilocalories per week at 12 months compared with the PE control patients (602 vs 328, P = .03).\n",
    "CONCLUSION: Patients who receive PA intervention after percutaneous coronary intervention are able to achieve a sustained and clinically significant increase in physical activity by 12 months. Trial Registration clinicaltrials.gov Identifier: NCT00248846.\"\"\"\n",
    "\n",
    "ptyp = [\"Journal Article\", \"Comment\"]"
   ]
  },
  {
   "cell_type": "markdown",
   "metadata": {},
   "source": [
    "to obtain predictions, call the `predict` function of the rct classifier as follows:\n",
    "\n",
    "rct_clf.predict(input_list, filter_type, filter_class)\n",
    "\n",
    "   input_list: an article (or list of articles) in the following format\n",
    "          {\"title\": title, \"abstract\", abstract, \"ptyp\": ptyp, \"use_ptyp\": True/False}\n",
    "          \n",
    "          - ptyp is optional, and should be a list of *all* the listed ptyps in the MEDLINE entry\n",
    "          - use_ptyp: whether to incorporate the ptyp into the model prediction.\n",
    "              **NB THIS SHOULD BE `True` ONLY FOR ARTICLES WHERE MESH TAGGING IS COMPLETE**\n",
    "              These are those with:\n",
    "                  - `STAT -  MEDLINE` in PubMed RIS export\n",
    "                  - `DB -    Ovid MEDLINE(R)` in Ovid RIS export\n",
    "                  - `<MedlineCitation Status=\"MEDLINE\" Owner=\"NLM\">` in PubMed XML\n",
    "              *all* others (including \"PubMed-not-MEDLINE\"/\"OLDMEDLINE\" and other close matches)\n",
    "              should be used as use_ptyp=False\n",
    "          \n",
    "   filter_type: \"sensitive\", \"balanced\", or \"precise\"\n",
    "       - different sensitivities as per our validation paper\n",
    "       - as a rule of thumb, choose:\n",
    "            'sensitive' for systematic reviews\n",
    "            'balanced' for rapid reviews, or auto-generating trial registries\n",
    "            'precise' for clinical question answering\n",
    "   \n",
    "   filter_class: \"svm\", \"cnn\", \"svm_cnn\" (the latter for an ensemble)\n",
    "       - to help choose:\n",
    "           - \"svm\" works a little better for sensitive strategies\n",
    "           - \"cnn\" works a little better for precise strategies\n",
    "           - \"svm_cnn\" is best for balanced strategies\n",
    "       - all cutoffs can be used for all model types\n",
    "       - cnns are slower, svms are near instant\n",
    "     "
   ]
  },
  {
   "cell_type": "code",
   "execution_count": 26,
   "metadata": {
    "collapsed": false,
    "scrolled": true
   },
   "outputs": [
    {
     "name": "stdout",
     "output_type": "stream",
     "text": [
      "\t1 of 6\n",
      "\t2 of 6\n",
      "\t3 of 6\n",
      "\t4 of 6\n",
      "\t5 of 6\n",
      "\t6 of 6\n"
     ]
    }
   ],
   "source": [
    "# Calling the classifier for the example data\n",
    "# params chosen here for making a registry of clinical trials\n",
    "# (i.e. 'balanced', and 'svm_cnn')\n",
    "pred = rct_clf.predict({\"title\": ti, \"abstract\": ab, \"ptyp\": ptyp, \"use_ptyp\": True}, filter_type=\"balanced\", filter_class=\"svm_cnn\")"
   ]
  },
  {
   "cell_type": "code",
   "execution_count": 27,
   "metadata": {
    "collapsed": false
   },
   "outputs": [
    {
     "name": "stdout",
     "output_type": "stream",
     "text": [
      "[{'model': 'svm_cnn_ptyp', 'is_rct': True, 'ptyp_rct': 0, 'threshold_type': 'balanced', 'threshold_value': 1.8855674604380572, 'score': 4.211599629439782}]\n"
     ]
    }
   ],
   "source": [
    "print(pred)"
   ]
  }
 ],
 "metadata": {
  "kernelspec": {
   "display_name": "Python [Root]",
   "language": "python",
   "name": "Python [Root]"
  },
  "language_info": {
   "codemirror_mode": {
    "name": "ipython",
    "version": 3
   },
   "file_extension": ".py",
   "mimetype": "text/x-python",
   "name": "python",
   "nbconvert_exporter": "python",
   "pygments_lexer": "ipython3",
   "version": "3.5.2"
  }
 },
 "nbformat": 4,
 "nbformat_minor": 2
}
